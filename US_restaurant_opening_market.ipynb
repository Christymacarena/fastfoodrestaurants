{
  "nbformat": 4,
  "nbformat_minor": 0,
  "metadata": {
    "colab": {
      "provenance": []
    },
    "kernelspec": {
      "name": "python3",
      "display_name": "Python 3"
    },
    "language_info": {
      "name": "python"
    }
  },
  "cells": [
    {
      "cell_type": "code",
      "execution_count": null,
      "metadata": {
        "colab": {
          "base_uri": "https://localhost:8080/",
          "height": 17
        },
        "id": "f2kLwSl2biAZ",
        "outputId": "e0271e8b-b13b-49e4-e76b-c7fb60e3c067"
      },
      "outputs": [
        {
          "output_type": "display_data",
          "data": {
            "text/html": [
              "        <script type=\"text/javascript\">\n",
              "        window.PlotlyConfig = {MathJaxConfig: 'local'};\n",
              "        if (window.MathJax) {MathJax.Hub.Config({SVG: {font: \"STIX-Web\"}});}\n",
              "        if (typeof require !== 'undefined') {\n",
              "        require.undef(\"plotly\");\n",
              "        requirejs.config({\n",
              "            paths: {\n",
              "                'plotly': ['https://cdn.plot.ly/plotly-2.8.3.min']\n",
              "            }\n",
              "        });\n",
              "        require(['plotly'], function(Plotly) {\n",
              "            window._Plotly = Plotly;\n",
              "        });\n",
              "        }\n",
              "        </script>\n",
              "        "
            ]
          },
          "metadata": {}
        }
      ],
      "source": [
        "import numpy as np\n",
        "import pandas as pd\n",
        "import random\n",
        "import matplotlib.pyplot as plt\n",
        "import seaborn as sns\n",
        "import datetime\n",
        "import os\n",
        "import folium\n",
        "from folium.plugins import FastMarkerCluster\n",
        "from plotly.offline import init_notebook_mode, iplot\n",
        "from plotly.graph_objs import *\n",
        "init_notebook_mode(connected=True)\n",
        "import plotly.graph_objs as go\n",
        "import nltk\n",
        "from sklearn.preprocessing import MinMaxScaler"
      ]
    },
    {
      "cell_type": "markdown",
      "source": [
        "# Step 1. Loading, checking, primary data processing:\n"
      ],
      "metadata": {
        "id": "eMTAXtJRbmoR"
      }
    },
    {
      "cell_type": "code",
      "source": [
        "fastfood = pd.read_csv('/content/FastFoodRestaurants.csv')\n",
        "df_may = pd.read_csv('Datafiniti_Fast_Food_Restaurants_May19.csv')\n",
        "df = pd.read_csv('Datafiniti_Fast_Food_Restaurants.csv')"
      ],
      "metadata": {
        "id": "L82u42R2bnG5"
      },
      "execution_count": null,
      "outputs": []
    },
    {
      "cell_type": "markdown",
      "source": [
        "***Step 1.1:*** Checking dataset 'Datafiniti_Fast_Food_Restaurants' for Unique values"
      ],
      "metadata": {
        "id": "kCU9_gRBcOK6"
      }
    },
    {
      "cell_type": "code",
      "source": [
        "restaurant_name1 = df_may['name'].unique()\n",
        "len(restaurant_name1)"
      ],
      "metadata": {
        "colab": {
          "base_uri": "https://localhost:8080/"
        },
        "id": "z6WDzeaEcOkq",
        "outputId": "d7ec0926-2a00-44e9-c873-c00f9cdc2824"
      },
      "execution_count": null,
      "outputs": [
        {
          "output_type": "execute_result",
          "data": {
            "text/plain": [
              "1545"
            ]
          },
          "metadata": {},
          "execution_count": 4
        }
      ]
    },
    {
      "cell_type": "code",
      "source": [
        "restaurant_names2 = df['name'].unique()\n",
        "len(restaurant_names2)"
      ],
      "metadata": {
        "colab": {
          "base_uri": "https://localhost:8080/"
        },
        "id": "5DMra1g3cW62",
        "outputId": "df851546-9402-413b-dc57-6c1b403ae770"
      },
      "execution_count": null,
      "outputs": [
        {
          "output_type": "execute_result",
          "data": {
            "text/plain": [
              "571"
            ]
          },
          "metadata": {},
          "execution_count": 5
        }
      ]
    },
    {
      "cell_type": "code",
      "source": [
        "restaurant_names3 = fastfood['name'].unique()\n",
        "len(restaurant_names3)"
      ],
      "metadata": {
        "colab": {
          "base_uri": "https://localhost:8080/"
        },
        "id": "AltSaGnvcYAV",
        "outputId": "8e22d8b5-e566-42f1-bf51-234df7235c80"
      },
      "execution_count": null,
      "outputs": [
        {
          "output_type": "execute_result",
          "data": {
            "text/plain": [
              "548"
            ]
          },
          "metadata": {},
          "execution_count": 6
        }
      ]
    },
    {
      "cell_type": "markdown",
      "source": [
        "* Insight: Datasets contain different values of restaurants - so they need to be merged to do analysis on the most complete volume of dat"
      ],
      "metadata": {
        "id": "7_IgreChcl3S"
      }
    },
    {
      "cell_type": "markdown",
      "source": [
        "Duplicates will be filtered twice: on coordinated (lat, long) and on adress-zip code"
      ],
      "metadata": {
        "id": "exrA819dcojD"
      }
    },
    {
      "cell_type": "code",
      "source": [
        "temp_df = pd.concat([df_may, df],ignore_index=True)"
      ],
      "metadata": {
        "id": "l8BrrczKcwtq"
      },
      "execution_count": null,
      "outputs": []
    },
    {
      "cell_type": "code",
      "source": [
        "temp_df = temp_df.drop_duplicates(subset=['latitude', 'longitude'],keep='first')"
      ],
      "metadata": {
        "id": "8-jrAEiTcmPD"
      },
      "execution_count": null,
      "outputs": []
    },
    {
      "cell_type": "code",
      "source": [
        "temp_df.info()"
      ],
      "metadata": {
        "colab": {
          "base_uri": "https://localhost:8080/"
        },
        "id": "ghOQ6pI1eYbd",
        "outputId": "1247cf73-2d12-4792-a8d2-f1dd20a855b1"
      },
      "execution_count": null,
      "outputs": [
        {
          "output_type": "stream",
          "name": "stdout",
          "text": [
            "<class 'pandas.core.frame.DataFrame'>\n",
            "Int64Index: 19189 entries, 0 to 19999\n",
            "Data columns (total 16 columns):\n",
            " #   Column             Non-Null Count  Dtype  \n",
            "---  ------             --------------  -----  \n",
            " 0   id                 19189 non-null  object \n",
            " 1   dateAdded          19189 non-null  object \n",
            " 2   dateUpdated        19189 non-null  object \n",
            " 3   address            19189 non-null  object \n",
            " 4   categories         19189 non-null  object \n",
            " 5   primaryCategories  9947 non-null   object \n",
            " 6   city               19189 non-null  object \n",
            " 7   country            19189 non-null  object \n",
            " 8   keys               19189 non-null  object \n",
            " 9   latitude           19189 non-null  float64\n",
            " 10  longitude          19189 non-null  float64\n",
            " 11  name               19189 non-null  object \n",
            " 12  postalCode         19189 non-null  object \n",
            " 13  province           19189 non-null  object \n",
            " 14  sourceURLs         19189 non-null  object \n",
            " 15  websites           19108 non-null  object \n",
            "dtypes: float64(2), object(14)\n",
            "memory usage: 2.5+ MB\n"
          ]
        }
      ]
    },
    {
      "cell_type": "markdown",
      "source": [
        "* What dateAdded/dateUpdated means for us? How those dates could help us with analyses?"
      ],
      "metadata": {
        "id": "UUtF4Ly8flzn"
      }
    },
    {
      "cell_type": "code",
      "source": [
        "temp_df[\"dateUpdated\"] = temp_df.apply(lambda row: pd.to_datetime(row['dateUpdated'],format='%Y-%m-%d %H:%M:%S'),axis = 1)\n",
        "temp_df[\"dateAdded\"] = temp_df.apply(lambda row: pd.to_datetime(row['dateAdded'],format='%Y-%m-%d %H:%M:%S'),axis = 1)"
      ],
      "metadata": {
        "id": "WGGoMxV6f7Xz"
      },
      "execution_count": null,
      "outputs": []
    },
    {
      "cell_type": "code",
      "source": [
        "plt.hist(temp_df['dateAdded'])\n",
        "plt.xlabel(\"date\")\n",
        "plt.ylabel(\"frequency (count)\")\n",
        "plt.title(\"Histogram of dateAdded column\")\n",
        "plt.show()"
      ],
      "metadata": {
        "colab": {
          "base_uri": "https://localhost:8080/",
          "height": 295
        },
        "id": "mE-B-1RRfo6g",
        "outputId": "1c09b363-c6a5-4dec-c052-ff722236089d"
      },
      "execution_count": null,
      "outputs": [
        {
          "output_type": "display_data",
          "data": {
            "text/plain": [
              "<Figure size 432x288 with 1 Axes>"
            ],
            "image/png": "[encoded data removed]"
          },
          "metadata": {
            "needs_background": "light"
          }
        }
      ]
    },
    {
      "cell_type": "code",
      "source": [
        "plt.hist(temp_df['dateUpdated'], color=\"orange\")\n",
        "plt.xlabel(\"date\")\n",
        "plt.ylabel(\"frequency (count)\")\n",
        "plt.title(\"Histogram of dateUpdated column\")\n",
        "plt.show()"
      ],
      "metadata": {
        "colab": {
          "base_uri": "https://localhost:8080/",
          "height": 295
        },
        "id": "530KuXcKf2yn",
        "outputId": "1540b5de-f7b2-4305-db01-43097f13c6a9"
      },
      "execution_count": null,
      "outputs": [
        {
          "output_type": "display_data",
          "data": {
            "text/plain": [
              "<Figure size 432x288 with 1 Axes>"
            ],
            "image/png": "[encoded data removed]"
          },
          "metadata": {
            "needs_background": "light"
          }
        }
      ]
    },
    {
      "cell_type": "code",
      "source": [
        "temp_df[temp_df['dateUpdated']<'2019-01-01'].count()"
      ],
      "metadata": {
        "colab": {
          "base_uri": "https://localhost:8080/"
        },
        "id": "7FvBCq0BiCIy",
        "outputId": "ba519c41-4c11-4c1b-9d0c-b7e46990354d"
      },
      "execution_count": null,
      "outputs": [
        {
          "output_type": "execute_result",
          "data": {
            "text/plain": [
              "id                   9934\n",
              "dateAdded            9934\n",
              "dateUpdated          9934\n",
              "address              9934\n",
              "categories           9934\n",
              "primaryCategories     692\n",
              "city                 9934\n",
              "country              9934\n",
              "keys                 9934\n",
              "latitude             9934\n",
              "longitude            9934\n",
              "name                 9934\n",
              "postalCode           9934\n",
              "province             9934\n",
              "sourceURLs           9934\n",
              "websites             9927\n",
              "dtype: int64"
            ]
          },
          "metadata": {},
          "execution_count": 13
        }
      ]
    },
    {
      "cell_type": "markdown",
      "source": [
        "* Insight: for the reliability of the analysis, we will take data on restaurants that were updated after 01/01/2019"
      ],
      "metadata": {
        "id": "2quC4Fu_gPxt"
      }
    },
    {
      "cell_type": "code",
      "source": [
        "temp_df = temp_df[temp_df['dateUpdated']>='2019-01-01']"
      ],
      "metadata": {
        "id": "LatquydtgG8T"
      },
      "execution_count": null,
      "outputs": []
    },
    {
      "cell_type": "code",
      "source": [
        "temp_df = temp_df[['address', 'city', 'latitude', 'longitude', 'name', 'postalCode', 'province']]"
      ],
      "metadata": {
        "id": "HEwujRykeakJ"
      },
      "execution_count": null,
      "outputs": []
    },
    {
      "cell_type": "code",
      "source": [
        "fastfood.info()"
      ],
      "metadata": {
        "colab": {
          "base_uri": "https://localhost:8080/"
        },
        "id": "eMtdNUh9fD0W",
        "outputId": "8b3c7932-941c-4373-e552-c8188a70121d"
      },
      "execution_count": null,
      "outputs": [
        {
          "output_type": "stream",
          "name": "stdout",
          "text": [
            "<class 'pandas.core.frame.DataFrame'>\n",
            "RangeIndex: 10000 entries, 0 to 9999\n",
            "Data columns (total 10 columns):\n",
            " #   Column      Non-Null Count  Dtype  \n",
            "---  ------      --------------  -----  \n",
            " 0   address     10000 non-null  object \n",
            " 1   city        10000 non-null  object \n",
            " 2   country     10000 non-null  object \n",
            " 3   keys        10000 non-null  object \n",
            " 4   latitude    10000 non-null  float64\n",
            " 5   longitude   10000 non-null  float64\n",
            " 6   name        10000 non-null  object \n",
            " 7   postalCode  10000 non-null  object \n",
            " 8   province    10000 non-null  object \n",
            " 9   websites    9535 non-null   object \n",
            "dtypes: float64(2), object(8)\n",
            "memory usage: 781.4+ KB\n"
          ]
        }
      ]
    },
    {
      "cell_type": "code",
      "source": [
        "fastfood = fastfood[['address', 'city', 'latitude', 'longitude', 'name', 'postalCode', 'province']]\n",
        "general_df = pd.concat([temp_df, fastfood],ignore_index=True)"
      ],
      "metadata": {
        "id": "zseLwjfSe9yN"
      },
      "execution_count": null,
      "outputs": []
    },
    {
      "cell_type": "code",
      "source": [
        "general_df.info()"
      ],
      "metadata": {
        "colab": {
          "base_uri": "https://localhost:8080/"
        },
        "id": "oKymiSpyfNXS",
        "outputId": "4ff12dba-efa0-45b7-e6c3-bfc192f13cc0"
      },
      "execution_count": null,
      "outputs": [
        {
          "output_type": "stream",
          "name": "stdout",
          "text": [
            "<class 'pandas.core.frame.DataFrame'>\n",
            "RangeIndex: 19255 entries, 0 to 19254\n",
            "Data columns (total 7 columns):\n",
            " #   Column      Non-Null Count  Dtype  \n",
            "---  ------      --------------  -----  \n",
            " 0   address     19255 non-null  object \n",
            " 1   city        19255 non-null  object \n",
            " 2   latitude    19255 non-null  float64\n",
            " 3   longitude   19255 non-null  float64\n",
            " 4   name        19255 non-null  object \n",
            " 5   postalCode  19255 non-null  object \n",
            " 6   province    19255 non-null  object \n",
            "dtypes: float64(2), object(5)\n",
            "memory usage: 1.0+ MB\n"
          ]
        }
      ]
    },
    {
      "cell_type": "code",
      "source": [
        "general_df = general_df.drop_duplicates(subset=['latitude', 'longitude'],keep='first')"
      ],
      "metadata": {
        "id": "lMpjQ11HfS19"
      },
      "execution_count": null,
      "outputs": []
    },
    {
      "cell_type": "code",
      "source": [
        "general_df.info()"
      ],
      "metadata": {
        "colab": {
          "base_uri": "https://localhost:8080/"
        },
        "id": "AAXK4FrsfXqL",
        "outputId": "bf57571d-e88f-4e36-9bcd-8a6112e23f9a"
      },
      "execution_count": null,
      "outputs": [
        {
          "output_type": "stream",
          "name": "stdout",
          "text": [
            "<class 'pandas.core.frame.DataFrame'>\n",
            "Int64Index: 19115 entries, 0 to 19254\n",
            "Data columns (total 7 columns):\n",
            " #   Column      Non-Null Count  Dtype  \n",
            "---  ------      --------------  -----  \n",
            " 0   address     19115 non-null  object \n",
            " 1   city        19115 non-null  object \n",
            " 2   latitude    19115 non-null  float64\n",
            " 3   longitude   19115 non-null  float64\n",
            " 4   name        19115 non-null  object \n",
            " 5   postalCode  19115 non-null  object \n",
            " 6   province    19115 non-null  object \n",
            "dtypes: float64(2), object(5)\n",
            "memory usage: 1.2+ MB\n"
          ]
        }
      ]
    },
    {
      "cell_type": "code",
      "source": [
        "general_df[general_df.duplicated(['address','postalCode'])].count()"
      ],
      "metadata": {
        "colab": {
          "base_uri": "https://localhost:8080/"
        },
        "id": "o9pMkxATik6Q",
        "outputId": "d6103c97-770b-43f5-cfaf-b0e2d4fdbe17"
      },
      "execution_count": null,
      "outputs": [
        {
          "output_type": "execute_result",
          "data": {
            "text/plain": [
              "address       293\n",
              "city          293\n",
              "latitude      293\n",
              "longitude     293\n",
              "name          293\n",
              "postalCode    293\n",
              "province      293\n",
              "dtype: int64"
            ]
          },
          "metadata": {},
          "execution_count": 21
        }
      ]
    },
    {
      "cell_type": "code",
      "source": [
        "general_df = general_df.drop_duplicates(['address','postalCode'])"
      ],
      "metadata": {
        "id": "Y7p6fg3Uiy4S"
      },
      "execution_count": null,
      "outputs": []
    },
    {
      "cell_type": "markdown",
      "source": [
        "# Step 2. Descriptive Analysis of FastFoodRestaurants in US"
      ],
      "metadata": {
        "id": "1xe0DtEQjhBX"
      }
    },
    {
      "cell_type": "code",
      "source": [
        "cityplt=general_df.city.value_counts()[:10].plot.bar(title='Top 10 cities')\n",
        "cityplt.set_xlabel('city',size=15)\n",
        "cityplt.set_ylabel('count',size=15)"
      ],
      "metadata": {
        "colab": {
          "base_uri": "https://localhost:8080/",
          "height": 368
        },
        "id": "Id36PE0ZkZU3",
        "outputId": "5c615519-8c95-43b2-d693-438beb1342c9"
      },
      "execution_count": null,
      "outputs": [
        {
          "output_type": "execute_result",
          "data": {
            "text/plain": [
              "Text(0, 0.5, 'count')"
            ]
          },
          "metadata": {},
          "execution_count": 23
        },
        {
          "output_type": "display_data",
          "data": {
            "text/plain": [
              "<Figure size 432x288 with 1 Axes>"
            ],
            "image/png": "[encoded data removed]"
          },
          "metadata": {
            "needs_background": "light"
          }
        }
      ]
    },
    {
      "cell_type": "code",
      "source": [
        "general_df.name.value_counts()[:10]"
      ],
      "metadata": {
        "colab": {
          "base_uri": "https://localhost:8080/"
        },
        "id": "Lq0D3k_AkmSW",
        "outputId": "80df67f7-4023-4720-a843-4d4ea13f6f79"
      },
      "execution_count": null,
      "outputs": [
        {
          "output_type": "execute_result",
          "data": {
            "text/plain": [
              "McDonald's        2513\n",
              "Burger King       1526\n",
              "Taco Bell         1313\n",
              "Subway             948\n",
              "Wendy's            936\n",
              "KFC                728\n",
              "Arby's             715\n",
              "Pizza Hut          580\n",
              "Domino's Pizza     558\n",
              "SUBWAY             436\n",
              "Name: name, dtype: int64"
            ]
          },
          "metadata": {},
          "execution_count": 24
        }
      ]
    },
    {
      "cell_type": "markdown",
      "source": [
        "* for some restaurants, the name is written in a different register, in order to more correctly calculate the number of restaurants in the presence - you need to bring it to one register"
      ],
      "metadata": {
        "id": "LDRMqSiVdpqI"
      }
    },
    {
      "cell_type": "code",
      "source": [
        "general_df['name_of_rest'] = general_df['name'].apply(lambda x : x.lower().strip())"
      ],
      "metadata": {
        "id": "PYNFY_yBnfXV"
      },
      "execution_count": null,
      "outputs": []
    },
    {
      "cell_type": "code",
      "source": [
        "general_df = general_df.drop(columns = ['name'],axis = 1)"
      ],
      "metadata": {
        "id": "kXzqpwR1pGA-"
      },
      "execution_count": null,
      "outputs": []
    },
    {
      "cell_type": "code",
      "source": [
        "nameplt=general_df.name_of_rest.value_counts()[:10].plot.bar(title=\"Top 10 Restaurants\")\n",
        "nameplt.set_xlabel('restaurant',size=15)\n",
        "nameplt.set_ylabel('count',size=15)"
      ],
      "metadata": {
        "colab": {
          "base_uri": "https://localhost:8080/",
          "height": 381
        },
        "id": "eBr6BEl4k7lq",
        "outputId": "a54aae96-fcd8-482c-d3a0-44f923254027"
      },
      "execution_count": null,
      "outputs": [
        {
          "output_type": "execute_result",
          "data": {
            "text/plain": [
              "Text(0, 0.5, 'count')"
            ]
          },
          "metadata": {},
          "execution_count": 27
        },
        {
          "output_type": "display_data",
          "data": {
            "text/plain": [
              "<Figure size 432x288 with 1 Axes>"
            ],
            "image/png": "[encoded data removed]"
          },
          "metadata": {
            "needs_background": "light"
          }
        }
      ]
    },
    {
      "cell_type": "markdown",
      "source": [
        "# Step 3. Descriptive Analysis on selected cities (look the Unit Economics Data research)"
      ],
      "metadata": {
        "id": "sU70vpRNlfy6"
      }
    },
    {
      "cell_type": "code",
      "source": [
        "zooming = {'OH': 'Cincinnati', 'OH': 'Columbus', 'OH': 'Cleveland', 'FL': 'Miami', 'IN': 'Indianapolis', 'OR': 'Portland', 'AL': 'Birmingham', 'NV': 'Las Vegas'}\n",
        "#zooming.update([('', ), ('', )])"
      ],
      "metadata": {
        "id": "WprlutPKd51Q"
      },
      "execution_count": null,
      "outputs": []
    },
    {
      "cell_type": "code",
      "source": [
        "for city in zooming:\n",
        "  print(city)"
      ],
      "metadata": {
        "colab": {
          "base_uri": "https://localhost:8080/"
        },
        "id": "AEpMuRcf62Pm",
        "outputId": "e9393429-7fda-4e30-fe73-46518729aca1"
      },
      "execution_count": null,
      "outputs": [
        {
          "output_type": "stream",
          "name": "stdout",
          "text": [
            "OH\n",
            "FL\n",
            "IN\n",
            "OR\n",
            "AL\n",
            "NV\n"
          ]
        }
      ]
    },
    {
      "cell_type": "code",
      "source": [
        "for key, value in x.items():\n",
        "  if (general_df.loc[df['province']] in x.key and general_df.loc[df['city']] in x.value):\n",
        "        testtest = testtest.append(general_df, ignore_index = True )\n",
        "else:\n",
        "    pass"
      ],
      "metadata": {
        "id": "0XSOSitkqTAS"
      },
      "execution_count": null,
      "outputs": []
    },
    {
      "cell_type": "code",
      "source": [
        "list_of_cities= ['Cincinnati', 'Columbus', 'Cleveland','Miami','Indianapolis','Portland','Birmingham','Las Vegas']\n",
        "list_of_province = ['OH','FL','OR','AL', 'NV']\n",
        "# this data array will contain the key cities/provinces for analysis"
      ],
      "metadata": {
        "id": "VMazaY_5lgnC"
      },
      "execution_count": null,
      "outputs": []
    },
    {
      "cell_type": "code",
      "source": [
        "df_filter=general_df[general_df['city'].isin (list_of_cities)]"
      ],
      "metadata": {
        "id": "ouGNwvf0mGTR"
      },
      "execution_count": null,
      "outputs": []
    },
    {
      "cell_type": "code",
      "source": [
        "goalcities=df_filter[df_filter['province'].isin (list_of_province)]"
      ],
      "metadata": {
        "id": "DeGtJgyfm_pB"
      },
      "execution_count": null,
      "outputs": []
    },
    {
      "cell_type": "code",
      "source": [
        "goalcities.info()"
      ],
      "metadata": {
        "colab": {
          "base_uri": "https://localhost:8080/"
        },
        "id": "YbQLvzkFprF1",
        "outputId": "dee9999a-d52d-48cc-df1d-3da372645ff7"
      },
      "execution_count": null,
      "outputs": [
        {
          "output_type": "stream",
          "name": "stdout",
          "text": [
            "<class 'pandas.core.frame.DataFrame'>\n",
            "Int64Index: 688 entries, 49 to 19246\n",
            "Data columns (total 7 columns):\n",
            " #   Column        Non-Null Count  Dtype  \n",
            "---  ------        --------------  -----  \n",
            " 0   address       688 non-null    object \n",
            " 1   city          688 non-null    object \n",
            " 2   latitude      688 non-null    float64\n",
            " 3   longitude     688 non-null    float64\n",
            " 4   postalCode    688 non-null    object \n",
            " 5   province      688 non-null    object \n",
            " 6   name_of_rest  688 non-null    object \n",
            "dtypes: float64(2), object(5)\n",
            "memory usage: 43.0+ KB\n"
          ]
        }
      ]
    },
    {
      "cell_type": "code",
      "source": [
        "goalcities['province'].value_counts()"
      ],
      "metadata": {
        "colab": {
          "base_uri": "https://localhost:8080/"
        },
        "id": "_Tdo9BjPpsDB",
        "outputId": "2d275cfe-10df-4d85-c4af-0e55c5181b11"
      },
      "execution_count": null,
      "outputs": [
        {
          "output_type": "execute_result",
          "data": {
            "text/plain": [
              "OH    321\n",
              "NV    114\n",
              "FL     99\n",
              "AL     77\n",
              "OR     77\n",
              "Name: province, dtype: int64"
            ]
          },
          "metadata": {},
          "execution_count": 31
        }
      ]
    },
    {
      "cell_type": "code",
      "source": [
        "goalcities['city'].value_counts()"
      ],
      "metadata": {
        "colab": {
          "base_uri": "https://localhost:8080/"
        },
        "id": "Qcg1dOJGrRvv",
        "outputId": "4f08cd22-9842-4f83-87ea-d435be23bcb7"
      },
      "execution_count": null,
      "outputs": [
        {
          "output_type": "execute_result",
          "data": {
            "text/plain": [
              "Cincinnati    169\n",
              "Las Vegas     114\n",
              "Miami          99\n",
              "Columbus       91\n",
              "Portland       77\n",
              "Birmingham     76\n",
              "Cleveland      62\n",
              "Name: city, dtype: int64"
            ]
          },
          "metadata": {},
          "execution_count": 32
        }
      ]
    },
    {
      "cell_type": "code",
      "source": [
        "goalcities[goalcities['city'] == 'Cleveland']['province'].value_counts()"
      ],
      "metadata": {
        "id": "5714zd8YtK-L",
        "colab": {
          "base_uri": "https://localhost:8080/"
        },
        "outputId": "c7753854-a6b8-4513-a5fe-54b82f1dc7af"
      },
      "execution_count": null,
      "outputs": [
        {
          "output_type": "execute_result",
          "data": {
            "text/plain": [
              "OH    62\n",
              "Name: province, dtype: int64"
            ]
          },
          "metadata": {},
          "execution_count": 33
        }
      ]
    },
    {
      "cell_type": "code",
      "source": [
        "uscities = pd.read_csv('/content/uscities.csv')"
      ],
      "metadata": {
        "id": "rL3LuioKrfn-"
      },
      "execution_count": null,
      "outputs": []
    },
    {
      "cell_type": "code",
      "source": [
        "uscities.info()"
      ],
      "metadata": {
        "colab": {
          "base_uri": "https://localhost:8080/"
        },
        "id": "TzGpmZbOr9ug",
        "outputId": "656b0894-eb56-4a7f-d8cb-5c74fd60a0c9"
      },
      "execution_count": null,
      "outputs": [
        {
          "output_type": "stream",
          "name": "stdout",
          "text": [
            "<class 'pandas.core.frame.DataFrame'>\n",
            "RangeIndex: 28338 entries, 0 to 28337\n",
            "Data columns (total 17 columns):\n",
            " #   Column        Non-Null Count  Dtype  \n",
            "---  ------        --------------  -----  \n",
            " 0   city          28338 non-null  object \n",
            " 1   city_ascii    28338 non-null  object \n",
            " 2   state_id      28338 non-null  object \n",
            " 3   state_name    28338 non-null  object \n",
            " 4   county_fips   28338 non-null  int64  \n",
            " 5   county_name   28338 non-null  object \n",
            " 6   lat           28338 non-null  float64\n",
            " 7   lng           28338 non-null  float64\n",
            " 8   population    28338 non-null  int64  \n",
            " 9   density       28338 non-null  int64  \n",
            " 10  source        28338 non-null  object \n",
            " 11  military      28338 non-null  bool   \n",
            " 12  incorporated  28338 non-null  bool   \n",
            " 13  timezone      28338 non-null  object \n",
            " 14  ranking       28338 non-null  int64  \n",
            " 15  zips          28337 non-null  object \n",
            " 16  id            28338 non-null  int64  \n",
            "dtypes: bool(2), float64(2), int64(5), object(8)\n",
            "memory usage: 3.3+ MB\n"
          ]
        }
      ]
    },
    {
      "cell_type": "code",
      "source": [
        "uscities.head(5)"
      ],
      "metadata": {
        "colab": {
          "base_uri": "https://localhost:8080/",
          "height": 858
        },
        "id": "FpJHGKIowm9K",
        "outputId": "2292108d-8695-458c-d539-89bfb1d7312e"
      },
      "execution_count": null,
      "outputs": [
        {
          "output_type": "execute_result",
          "data": {
            "text/plain": [
              "          city   city_ascii state_id  state_name  county_fips  county_name  \\\n",
              "0     New York     New York       NY    New York        36061     New York   \n",
              "1  Los Angeles  Los Angeles       CA  California         6037  Los Angeles   \n",
              "2      Chicago      Chicago       IL    Illinois        17031         Cook   \n",
              "3        Miami        Miami       FL     Florida        12086   Miami-Dade   \n",
              "4       Dallas       Dallas       TX       Texas        48113       Dallas   \n",
              "\n",
              "       lat       lng  population  density   source  military  incorporated  \\\n",
              "0  40.6943  -73.9249    18713220    10715  polygon     False          True   \n",
              "1  34.1139 -118.4068    12750807     3276  polygon     False          True   \n",
              "2  41.8373  -87.6862     8604203     4574  polygon     False          True   \n",
              "3  25.7839  -80.2102     6445545     5019  polygon     False          True   \n",
              "4  32.7936  -96.7662     5743938     1526  polygon     False          True   \n",
              "\n",
              "              timezone  ranking  \\\n",
              "0     America/New_York        1   \n",
              "1  America/Los_Angeles        1   \n",
              "2      America/Chicago        1   \n",
              "3     America/New_York        1   \n",
              "4      America/Chicago        1   \n",
              "\n",
              "                                                zips          id  \n",
              "0  11229 11226 11225 11224 11222 11221 11220 1138...  1840034016  \n",
              "1  90291 90293 90292 91316 91311 90037 90031 9000...  1840020491  \n",
              "2  60018 60649 60641 60640 60643 60642 60645 6064...  1840000494  \n",
              "3  33129 33125 33126 33127 33128 33149 33144 3314...  1840015149  \n",
              "4  75287 75098 75233 75254 75251 75252 75253 7503...  1840019440  "
            ],
            "text/html": [
              "\n",
              "  <div id=\"df-24ff87d8-326f-4c79-b468-6edfaf5da648\">\n",
              "    <div class=\"colab-df-container\">\n",
              "      <div>\n",
              "<style scoped>\n",
              "    .dataframe tbody tr th:only-of-type {\n",
              "        vertical-align: middle;\n",
              "    }\n",
              "\n",
              "    .dataframe tbody tr th {\n",
              "        vertical-align: top;\n",
              "    }\n",
              "\n",
              "    .dataframe thead th {\n",
              "        text-align: right;\n",
              "    }\n",
              "</style>\n",
              "<table border=\"1\" class=\"dataframe\">\n",
              "  <thead>\n",
              "    <tr style=\"text-align: right;\">\n",
              "      <th></th>\n",
              "      <th>city</th>\n",
              "      <th>city_ascii</th>\n",
              "      <th>state_id</th>\n",
              "      <th>state_name</th>\n",
              "      <th>county_fips</th>\n",
              "      <th>county_name</th>\n",
              "      <th>lat</th>\n",
              "      <th>lng</th>\n",
              "      <th>population</th>\n",
              "      <th>density</th>\n",
              "      <th>source</th>\n",
              "      <th>military</th>\n",
              "      <th>incorporated</th>\n",
              "      <th>timezone</th>\n",
              "      <th>ranking</th>\n",
              "      <th>zips</th>\n",
              "      <th>id</th>\n",
              "    </tr>\n",
              "  </thead>\n",
              "  <tbody>\n",
              "    <tr>\n",
              "      <th>0</th>\n",
              "      <td>New York</td>\n",
              "      <td>New York</td>\n",
              "      <td>NY</td>\n",
              "      <td>New York</td>\n",
              "      <td>36061</td>\n",
              "      <td>New York</td>\n",
              "      <td>40.6943</td>\n",
              "      <td>-73.9249</td>\n",
              "      <td>18713220</td>\n",
              "      <td>10715</td>\n",
              "      <td>polygon</td>\n",
              "      <td>False</td>\n",
              "      <td>True</td>\n",
              "      <td>America/New_York</td>\n",
              "      <td>1</td>\n",
              "      <td>11229 11226 11225 11224 11222 11221 11220 1138...</td>\n",
              "      <td>1840034016</td>\n",
              "    </tr>\n",
              "    <tr>\n",
              "      <th>1</th>\n",
              "      <td>Los Angeles</td>\n",
              "      <td>Los Angeles</td>\n",
              "      <td>CA</td>\n",
              "      <td>California</td>\n",
              "      <td>6037</td>\n",
              "      <td>Los Angeles</td>\n",
              "      <td>34.1139</td>\n",
              "      <td>-118.4068</td>\n",
              "      <td>12750807</td>\n",
              "      <td>3276</td>\n",
              "      <td>polygon</td>\n",
              "      <td>False</td>\n",
              "      <td>True</td>\n",
              "      <td>America/Los_Angeles</td>\n",
              "      <td>1</td>\n",
              "      <td>90291 90293 90292 91316 91311 90037 90031 9000...</td>\n",
              "      <td>1840020491</td>\n",
              "    </tr>\n",
              "    <tr>\n",
              "      <th>2</th>\n",
              "      <td>Chicago</td>\n",
              "      <td>Chicago</td>\n",
              "      <td>IL</td>\n",
              "      <td>Illinois</td>\n",
              "      <td>17031</td>\n",
              "      <td>Cook</td>\n",
              "      <td>41.8373</td>\n",
              "      <td>-87.6862</td>\n",
              "      <td>8604203</td>\n",
              "      <td>4574</td>\n",
              "      <td>polygon</td>\n",
              "      <td>False</td>\n",
              "      <td>True</td>\n",
              "      <td>America/Chicago</td>\n",
              "      <td>1</td>\n",
              "      <td>60018 60649 60641 60640 60643 60642 60645 6064...</td>\n",
              "      <td>1840000494</td>\n",
              "    </tr>\n",
              "    <tr>\n",
              "      <th>3</th>\n",
              "      <td>Miami</td>\n",
              "      <td>Miami</td>\n",
              "      <td>FL</td>\n",
              "      <td>Florida</td>\n",
              "      <td>12086</td>\n",
              "      <td>Miami-Dade</td>\n",
              "      <td>25.7839</td>\n",
              "      <td>-80.2102</td>\n",
              "      <td>6445545</td>\n",
              "      <td>5019</td>\n",
              "      <td>polygon</td>\n",
              "      <td>False</td>\n",
              "      <td>True</td>\n",
              "      <td>America/New_York</td>\n",
              "      <td>1</td>\n",
              "      <td>33129 33125 33126 33127 33128 33149 33144 3314...</td>\n",
              "      <td>1840015149</td>\n",
              "    </tr>\n",
              "    <tr>\n",
              "      <th>4</th>\n",
              "      <td>Dallas</td>\n",
              "      <td>Dallas</td>\n",
              "      <td>TX</td>\n",
              "      <td>Texas</td>\n",
              "      <td>48113</td>\n",
              "      <td>Dallas</td>\n",
              "      <td>32.7936</td>\n",
              "      <td>-96.7662</td>\n",
              "      <td>5743938</td>\n",
              "      <td>1526</td>\n",
              "      <td>polygon</td>\n",
              "      <td>False</td>\n",
              "      <td>True</td>\n",
              "      <td>America/Chicago</td>\n",
              "      <td>1</td>\n",
              "      <td>75287 75098 75233 75254 75251 75252 75253 7503...</td>\n",
              "      <td>1840019440</td>\n",
              "    </tr>\n",
              "  </tbody>\n",
              "</table>\n",
              "</div>\n",
              "      <button class=\"colab-df-convert\" onclick=\"convertToInteractive('df-24ff87d8-326f-4c79-b468-6edfaf5da648')\"\n",
              "              title=\"Convert this dataframe to an interactive table.\"\n",
              "              style=\"display:none;\">\n",
              "        \n",
              "  <svg xmlns=\"http://www.w3.org/2000/svg\" height=\"24px\"viewBox=\"0 0 24 24\"\n",
              "       width=\"24px\">\n",
              "    <path d=\"M0 0h24v24H0V0z\" fill=\"none\"/>\n",
              "    <path d=\"M18.56 5.44l.94 2.06.94-2.06 2.06-.94-2.06-.94-.94-2.06-.94 2.06-2.06.94zm-11 1L8.5 8.5l.94-2.06 2.06-.94-2.06-.94L8.5 2.5l-.94 2.06-2.06.94zm10 10l.94 2.06.94-2.06 2.06-.94-2.06-.94-.94-2.06-.94 2.06-2.06.94z\"/><path d=\"M17.41 7.96l-1.37-1.37c-.4-.4-.92-.59-1.43-.59-.52 0-1.04.2-1.43.59L10.3 9.45l-7.72 7.72c-.78.78-.78 2.05 0 2.83L4 21.41c.39.39.9.59 1.41.59.51 0 1.02-.2 1.41-.59l7.78-7.78 2.81-2.81c.8-.78.8-2.07 0-2.86zM5.41 20L4 18.59l7.72-7.72 1.47 1.35L5.41 20z\"/>\n",
              "  </svg>\n",
              "      </button>\n",
              "      \n",
              "  <style>\n",
              "    .colab-df-container {\n",
              "      display:flex;\n",
              "      flex-wrap:wrap;\n",
              "      gap: 12px;\n",
              "    }\n",
              "\n",
              "    .colab-df-convert {\n",
              "      background-color: #E8F0FE;\n",
              "      border: none;\n",
              "      border-radius: 50%;\n",
              "      cursor: pointer;\n",
              "      display: none;\n",
              "      fill: #1967D2;\n",
              "      height: 32px;\n",
              "      padding: 0 0 0 0;\n",
              "      width: 32px;\n",
              "    }\n",
              "\n",
              "    .colab-df-convert:hover {\n",
              "      background-color: #E2EBFA;\n",
              "      box-shadow: 0px 1px 2px rgba(60, 64, 67, 0.3), 0px 1px 3px 1px rgba(60, 64, 67, 0.15);\n",
              "      fill: #174EA6;\n",
              "    }\n",
              "\n",
              "    [theme=dark] .colab-df-convert {\n",
              "      background-color: #3B4455;\n",
              "      fill: #D2E3FC;\n",
              "    }\n",
              "\n",
              "    [theme=dark] .colab-df-convert:hover {\n",
              "      background-color: #434B5C;\n",
              "      box-shadow: 0px 1px 3px 1px rgba(0, 0, 0, 0.15);\n",
              "      filter: drop-shadow(0px 1px 2px rgba(0, 0, 0, 0.3));\n",
              "      fill: #FFFFFF;\n",
              "    }\n",
              "  </style>\n",
              "\n",
              "      <script>\n",
              "        const buttonEl =\n",
              "          document.querySelector('#df-24ff87d8-326f-4c79-b468-6edfaf5da648 button.colab-df-convert');\n",
              "        buttonEl.style.display =\n",
              "          google.colab.kernel.accessAllowed ? 'block' : 'none';\n",
              "\n",
              "        async function convertToInteractive(key) {\n",
              "          const element = document.querySelector('#df-24ff87d8-326f-4c79-b468-6edfaf5da648');\n",
              "          const dataTable =\n",
              "            await google.colab.kernel.invokeFunction('convertToInteractive',\n",
              "                                                     [key], {});\n",
              "          if (!dataTable) return;\n",
              "\n",
              "          const docLinkHtml = 'Like what you see? Visit the ' +\n",
              "            '<a target=\"_blank\" href=https://colab.research.google.com/notebooks/data_table.ipynb>data table notebook</a>'\n",
              "            + ' to learn more about interactive tables.';\n",
              "          element.innerHTML = '';\n",
              "          dataTable['output_type'] = 'display_data';\n",
              "          await google.colab.output.renderOutput(dataTable, element);\n",
              "          const docLink = document.createElement('div');\n",
              "          docLink.innerHTML = docLinkHtml;\n",
              "          element.appendChild(docLink);\n",
              "        }\n",
              "      </script>\n",
              "    </div>\n",
              "  </div>\n",
              "  "
            ]
          },
          "metadata": {},
          "execution_count": 36
        }
      ]
    },
    {
      "cell_type": "code",
      "source": [
        "uscities=uscities[uscities['city'].isin (list_of_cities)]"
      ],
      "metadata": {
        "id": "sH4E-awnrmmv"
      },
      "execution_count": null,
      "outputs": []
    },
    {
      "cell_type": "code",
      "source": [
        "uscities['city'].value_counts()"
      ],
      "metadata": {
        "colab": {
          "base_uri": "https://localhost:8080/"
        },
        "id": "L14awv9x5Bw_",
        "outputId": "0c6029b1-bbed-4175-ceea-2b2582b03aef"
      },
      "execution_count": null,
      "outputs": [
        {
          "output_type": "execute_result",
          "data": {
            "text/plain": [
              "Cleveland       17\n",
              "Columbus        15\n",
              "Portland        11\n",
              "Miami            5\n",
              "Birmingham       4\n",
              "Las Vegas        2\n",
              "Cincinnati       2\n",
              "Indianapolis     1\n",
              "Name: city, dtype: int64"
            ]
          },
          "metadata": {},
          "execution_count": 38
        }
      ]
    },
    {
      "cell_type": "code",
      "source": [
        "uscities = uscities[uscities['state_id'].isin (list_of_province)]"
      ],
      "metadata": {
        "id": "ac8_hZRo4loM"
      },
      "execution_count": null,
      "outputs": []
    },
    {
      "cell_type": "code",
      "source": [
        "uscities['city'].value_counts()"
      ],
      "metadata": {
        "colab": {
          "base_uri": "https://localhost:8080/"
        },
        "id": "yXqJLYdH5Pg2",
        "outputId": "3ffdc7bd-db65-45ac-a829-63c2a8e9dfcf"
      },
      "execution_count": null,
      "outputs": [
        {
          "output_type": "execute_result",
          "data": {
            "text/plain": [
              "Cleveland     3\n",
              "Miami         1\n",
              "Las Vegas     1\n",
              "Portland      1\n",
              "Cincinnati    1\n",
              "Columbus      1\n",
              "Birmingham    1\n",
              "Name: city, dtype: int64"
            ]
          },
          "metadata": {},
          "execution_count": 40
        }
      ]
    },
    {
      "cell_type": "code",
      "source": [
        "uscities[uscities['city'] == 'Cleveland']"
      ],
      "metadata": {
        "colab": {
          "base_uri": "https://localhost:8080/",
          "height": 326
        },
        "id": "iv_g0DYs3LP7",
        "outputId": "4a2633eb-996d-4746-de8c-5f21d1e34614"
      },
      "execution_count": null,
      "outputs": [
        {
          "output_type": "execute_result",
          "data": {
            "text/plain": [
              "            city city_ascii state_id state_name  county_fips county_name  \\\n",
              "29     Cleveland  Cleveland       OH       Ohio        39035    Cuyahoga   \n",
              "8794   Cleveland  Cleveland       FL    Florida        12015   Charlotte   \n",
              "13090  Cleveland  Cleveland       AL    Alabama         1009      Blount   \n",
              "\n",
              "           lat      lng  population  density   source  military  incorporated  \\\n",
              "29     41.4767 -81.6804     1710093     1893  polygon     False          True   \n",
              "8794   26.9529 -81.9925        3077      226  polygon     False         False   \n",
              "13090  33.9965 -86.5671        1306       64  polygon     False          True   \n",
              "\n",
              "               timezone  ranking  \\\n",
              "29     America/New_York        1   \n",
              "8794   America/New_York        3   \n",
              "13090   America/Chicago        3   \n",
              "\n",
              "                                                    zips          id  \n",
              "29     44135 44128 44119 44113 44112 44111 44110 4411...  1840000596  \n",
              "8794                                               33982  1840013128  \n",
              "13090                                        35049 35121  1840016718  "
            ],
            "text/html": [
              "\n",
              "  <div id=\"df-3d4eb2b0-bd83-49f3-9bcb-020242548631\">\n",
              "    <div class=\"colab-df-container\">\n",
              "      <div>\n",
              "<style scoped>\n",
              "    .dataframe tbody tr th:only-of-type {\n",
              "        vertical-align: middle;\n",
              "    }\n",
              "\n",
              "    .dataframe tbody tr th {\n",
              "        vertical-align: top;\n",
              "    }\n",
              "\n",
              "    .dataframe thead th {\n",
              "        text-align: right;\n",
              "    }\n",
              "</style>\n",
              "<table border=\"1\" class=\"dataframe\">\n",
              "  <thead>\n",
              "    <tr style=\"text-align: right;\">\n",
              "      <th></th>\n",
              "      <th>city</th>\n",
              "      <th>city_ascii</th>\n",
              "      <th>state_id</th>\n",
              "      <th>state_name</th>\n",
              "      <th>county_fips</th>\n",
              "      <th>county_name</th>\n",
              "      <th>lat</th>\n",
              "      <th>lng</th>\n",
              "      <th>population</th>\n",
              "      <th>density</th>\n",
              "      <th>source</th>\n",
              "      <th>military</th>\n",
              "      <th>incorporated</th>\n",
              "      <th>timezone</th>\n",
              "      <th>ranking</th>\n",
              "      <th>zips</th>\n",
              "      <th>id</th>\n",
              "    </tr>\n",
              "  </thead>\n",
              "  <tbody>\n",
              "    <tr>\n",
              "      <th>29</th>\n",
              "      <td>Cleveland</td>\n",
              "      <td>Cleveland</td>\n",
              "      <td>OH</td>\n",
              "      <td>Ohio</td>\n",
              "      <td>39035</td>\n",
              "      <td>Cuyahoga</td>\n",
              "      <td>41.4767</td>\n",
              "      <td>-81.6804</td>\n",
              "      <td>1710093</td>\n",
              "      <td>1893</td>\n",
              "      <td>polygon</td>\n",
              "      <td>False</td>\n",
              "      <td>True</td>\n",
              "      <td>America/New_York</td>\n",
              "      <td>1</td>\n",
              "      <td>44135 44128 44119 44113 44112 44111 44110 4411...</td>\n",
              "      <td>1840000596</td>\n",
              "    </tr>\n",
              "    <tr>\n",
              "      <th>8794</th>\n",
              "      <td>Cleveland</td>\n",
              "      <td>Cleveland</td>\n",
              "      <td>FL</td>\n",
              "      <td>Florida</td>\n",
              "      <td>12015</td>\n",
              "      <td>Charlotte</td>\n",
              "      <td>26.9529</td>\n",
              "      <td>-81.9925</td>\n",
              "      <td>3077</td>\n",
              "      <td>226</td>\n",
              "      <td>polygon</td>\n",
              "      <td>False</td>\n",
              "      <td>False</td>\n",
              "      <td>America/New_York</td>\n",
              "      <td>3</td>\n",
              "      <td>33982</td>\n",
              "      <td>1840013128</td>\n",
              "    </tr>\n",
              "    <tr>\n",
              "      <th>13090</th>\n",
              "      <td>Cleveland</td>\n",
              "      <td>Cleveland</td>\n",
              "      <td>AL</td>\n",
              "      <td>Alabama</td>\n",
              "      <td>1009</td>\n",
              "      <td>Blount</td>\n",
              "      <td>33.9965</td>\n",
              "      <td>-86.5671</td>\n",
              "      <td>1306</td>\n",
              "      <td>64</td>\n",
              "      <td>polygon</td>\n",
              "      <td>False</td>\n",
              "      <td>True</td>\n",
              "      <td>America/Chicago</td>\n",
              "      <td>3</td>\n",
              "      <td>35049 35121</td>\n",
              "      <td>1840016718</td>\n",
              "    </tr>\n",
              "  </tbody>\n",
              "</table>\n",
              "</div>\n",
              "      <button class=\"colab-df-convert\" onclick=\"convertToInteractive('df-3d4eb2b0-bd83-49f3-9bcb-020242548631')\"\n",
              "              title=\"Convert this dataframe to an interactive table.\"\n",
              "              style=\"display:none;\">\n",
              "        \n",
              "  <svg xmlns=\"http://www.w3.org/2000/svg\" height=\"24px\"viewBox=\"0 0 24 24\"\n",
              "       width=\"24px\">\n",
              "    <path d=\"M0 0h24v24H0V0z\" fill=\"none\"/>\n",
              "    <path d=\"M18.56 5.44l.94 2.06.94-2.06 2.06-.94-2.06-.94-.94-2.06-.94 2.06-2.06.94zm-11 1L8.5 8.5l.94-2.06 2.06-.94-2.06-.94L8.5 2.5l-.94 2.06-2.06.94zm10 10l.94 2.06.94-2.06 2.06-.94-2.06-.94-.94-2.06-.94 2.06-2.06.94z\"/><path d=\"M17.41 7.96l-1.37-1.37c-.4-.4-.92-.59-1.43-.59-.52 0-1.04.2-1.43.59L10.3 9.45l-7.72 7.72c-.78.78-.78 2.05 0 2.83L4 21.41c.39.39.9.59 1.41.59.51 0 1.02-.2 1.41-.59l7.78-7.78 2.81-2.81c.8-.78.8-2.07 0-2.86zM5.41 20L4 18.59l7.72-7.72 1.47 1.35L5.41 20z\"/>\n",
              "  </svg>\n",
              "      </button>\n",
              "      \n",
              "  <style>\n",
              "    .colab-df-container {\n",
              "      display:flex;\n",
              "      flex-wrap:wrap;\n",
              "      gap: 12px;\n",
              "    }\n",
              "\n",
              "    .colab-df-convert {\n",
              "      background-color: #E8F0FE;\n",
              "      border: none;\n",
              "      border-radius: 50%;\n",
              "      cursor: pointer;\n",
              "      display: none;\n",
              "      fill: #1967D2;\n",
              "      height: 32px;\n",
              "      padding: 0 0 0 0;\n",
              "      width: 32px;\n",
              "    }\n",
              "\n",
              "    .colab-df-convert:hover {\n",
              "      background-color: #E2EBFA;\n",
              "      box-shadow: 0px 1px 2px rgba(60, 64, 67, 0.3), 0px 1px 3px 1px rgba(60, 64, 67, 0.15);\n",
              "      fill: #174EA6;\n",
              "    }\n",
              "\n",
              "    [theme=dark] .colab-df-convert {\n",
              "      background-color: #3B4455;\n",
              "      fill: #D2E3FC;\n",
              "    }\n",
              "\n",
              "    [theme=dark] .colab-df-convert:hover {\n",
              "      background-color: #434B5C;\n",
              "      box-shadow: 0px 1px 3px 1px rgba(0, 0, 0, 0.15);\n",
              "      filter: drop-shadow(0px 1px 2px rgba(0, 0, 0, 0.3));\n",
              "      fill: #FFFFFF;\n",
              "    }\n",
              "  </style>\n",
              "\n",
              "      <script>\n",
              "        const buttonEl =\n",
              "          document.querySelector('#df-3d4eb2b0-bd83-49f3-9bcb-020242548631 button.colab-df-convert');\n",
              "        buttonEl.style.display =\n",
              "          google.colab.kernel.accessAllowed ? 'block' : 'none';\n",
              "\n",
              "        async function convertToInteractive(key) {\n",
              "          const element = document.querySelector('#df-3d4eb2b0-bd83-49f3-9bcb-020242548631');\n",
              "          const dataTable =\n",
              "            await google.colab.kernel.invokeFunction('convertToInteractive',\n",
              "                                                     [key], {});\n",
              "          if (!dataTable) return;\n",
              "\n",
              "          const docLinkHtml = 'Like what you see? Visit the ' +\n",
              "            '<a target=\"_blank\" href=https://colab.research.google.com/notebooks/data_table.ipynb>data table notebook</a>'\n",
              "            + ' to learn more about interactive tables.';\n",
              "          element.innerHTML = '';\n",
              "          dataTable['output_type'] = 'display_data';\n",
              "          await google.colab.output.renderOutput(dataTable, element);\n",
              "          const docLink = document.createElement('div');\n",
              "          docLink.innerHTML = docLinkHtml;\n",
              "          element.appendChild(docLink);\n",
              "        }\n",
              "      </script>\n",
              "    </div>\n",
              "  </div>\n",
              "  "
            ]
          },
          "metadata": {},
          "execution_count": 41
        }
      ]
    },
    {
      "cell_type": "code",
      "source": [
        "uscities = uscities.drop(index=[8794, 13090])"
      ],
      "metadata": {
        "id": "KNEjBFEwsNXG"
      },
      "execution_count": null,
      "outputs": []
    },
    {
      "cell_type": "code",
      "source": [
        "uscities['city'].value_counts()"
      ],
      "metadata": {
        "colab": {
          "base_uri": "https://localhost:8080/"
        },
        "id": "Qnn2RJG2vZsH",
        "outputId": "5f8e9631-7c7e-4f4d-ff2a-6e15bd343f4c"
      },
      "execution_count": null,
      "outputs": [
        {
          "output_type": "execute_result",
          "data": {
            "text/plain": [
              "Miami         1\n",
              "Las Vegas     1\n",
              "Portland      1\n",
              "Cleveland     1\n",
              "Cincinnati    1\n",
              "Columbus      1\n",
              "Birmingham    1\n",
              "Name: city, dtype: int64"
            ]
          },
          "metadata": {},
          "execution_count": 43
        }
      ]
    },
    {
      "cell_type": "code",
      "source": [
        "uscities = uscities[['city', 'population','density']]"
      ],
      "metadata": {
        "id": "bQXcv-M0w612"
      },
      "execution_count": null,
      "outputs": []
    },
    {
      "cell_type": "code",
      "source": [
        "final_df = pd.merge(goalcities, uscities, how='left', on=['city'])"
      ],
      "metadata": {
        "id": "v4BZcrxVxATJ"
      },
      "execution_count": null,
      "outputs": []
    },
    {
      "cell_type": "code",
      "source": [
        "graph = final_df['city'].value_counts().plot(kind='bar', color='skyblue')\n",
        "for rect in graph.patches:\n",
        "    height = rect.get_height()\n",
        "    ypos = rect.get_y() + height/2\n",
        "    graph.text(rect.get_x() + rect.get_width()/2., ypos,\n",
        "            '%d' % int(height), ha='center', va='bottom')\n",
        "plt.title('Number of fast food restaurants')"
      ],
      "metadata": {
        "colab": {
          "base_uri": "https://localhost:8080/",
          "height": 349
        },
        "id": "erpzJcBCv7Pq",
        "outputId": "d1313070-a629-4cf7-fa60-18c8f14f870d"
      },
      "execution_count": null,
      "outputs": [
        {
          "output_type": "execute_result",
          "data": {
            "text/plain": [
              "Text(0.5, 1.0, 'Number of fast food restaurants')"
            ]
          },
          "metadata": {},
          "execution_count": 46
        },
        {
          "output_type": "display_data",
          "data": {
            "text/plain": [
              "<Figure size 432x288 with 1 Axes>"
            ],
            "image/png": "[encoded data removed]"
          },
          "metadata": {
            "needs_background": "light"
          }
        }
      ]
    },
    {
      "cell_type": "markdown",
      "source": [
        "# Step 4. Analysis of features, adding new ones, analysis of population and population density"
      ],
      "metadata": {
        "id": "Hjuqy_Vqzg7N"
      }
    },
    {
      "cell_type": "code",
      "source": [
        "value_counts = final_df['city'].value_counts()\n",
        "\n",
        "# converting to df and assigning new names to columns\n",
        "df_counts = pd.DataFrame(value_counts)\n",
        "df_counts = df_counts.reset_index()\n",
        "df_counts.columns = ['city', 'number of restaurants']"
      ],
      "metadata": {
        "id": "hm6wkbmlxtoX"
      },
      "execution_count": null,
      "outputs": []
    },
    {
      "cell_type": "code",
      "source": [
        "df_population = pd.DataFrame([['Cincinnati', 304445], ['Columbus', 899908], ['Cleveland', 381386], ['Miami', 467103], ['Las Vegas', 653963], ['Indianapolis', 875694], ['Birmingham', 208889], ['Portland', 654378]])\n",
        "\n",
        "df_population.rename(columns = {0:'city', 1:'population'}, inplace = True)"
      ],
      "metadata": {
        "id": "SW4n5CU77BME"
      },
      "execution_count": null,
      "outputs": []
    },
    {
      "cell_type": "code",
      "source": [
        "df_counts = df_counts.merge(df_population, on='city')"
      ],
      "metadata": {
        "id": "loUDq6P272gJ"
      },
      "execution_count": null,
      "outputs": []
    },
    {
      "cell_type": "code",
      "source": [
        "df_counts['rest_density'] = np.round((df_counts['population']/1000) / df_counts['number of restaurants'], 3)"
      ],
      "metadata": {
        "id": "iB6Z1n6lxg8l"
      },
      "execution_count": null,
      "outputs": []
    },
    {
      "cell_type": "code",
      "source": [
        "df_counts = df_counts.sort_values(by='rest_density', ascending=False)"
      ],
      "metadata": {
        "id": "qZD6YX_B8PBN"
      },
      "execution_count": null,
      "outputs": []
    },
    {
      "cell_type": "code",
      "source": [
        "graph = df_counts.plot(x='city', y='rest_density', kind='bar', color='skyblue', legend=None, xlabel='')\n",
        "plt.title('People per restaurant (ths. people)')"
      ],
      "metadata": {
        "colab": {
          "base_uri": "https://localhost:8080/",
          "height": 349
        },
        "id": "YFTkDKIPyn7x",
        "outputId": "ec2bbc1e-08b3-4914-b43d-7c19141e57ff"
      },
      "execution_count": null,
      "outputs": [
        {
          "output_type": "execute_result",
          "data": {
            "text/plain": [
              "Text(0.5, 1.0, 'People per restaurant (ths. people)')"
            ]
          },
          "metadata": {},
          "execution_count": 52
        },
        {
          "output_type": "display_data",
          "data": {
            "text/plain": [
              "<Figure size 432x288 with 1 Axes>"
            ],
            "image/png": "[encoded data removed]"
          },
          "metadata": {
            "needs_background": "light"
          }
        }
      ]
    },
    {
      "cell_type": "code",
      "source": [
        "sns.displot(x=final_df['city'],y=final_df['density'])"
      ],
      "metadata": {
        "colab": {
          "base_uri": "https://localhost:8080/",
          "height": 386
        },
        "id": "0qCCUUjuzHd9",
        "outputId": "90adf158-3858-482e-dd74-00912779fcaf"
      },
      "execution_count": null,
      "outputs": [
        {
          "output_type": "execute_result",
          "data": {
            "text/plain": [
              "<seaborn.axisgrid.FacetGrid at 0x7febb2a9f6d0>"
            ]
          },
          "metadata": {},
          "execution_count": 53
        },
        {
          "output_type": "display_data",
          "data": {
            "text/plain": [
              "<Figure size 360x360 with 1 Axes>"
            ],
            "image/png": "[encoded data removed]"
          },
          "metadata": {
            "needs_background": "light"
          }
        }
      ]
    },
    {
      "cell_type": "code",
      "source": [
        "sns.displot(x=final_df['city'],y=final_df['population'])"
      ],
      "metadata": {
        "colab": {
          "base_uri": "https://localhost:8080/",
          "height": 386
        },
        "id": "4ffKcXEQzN7i",
        "outputId": "176b678a-68c7-47d3-fb72-c0e257db637c"
      },
      "execution_count": null,
      "outputs": [
        {
          "output_type": "execute_result",
          "data": {
            "text/plain": [
              "<seaborn.axisgrid.FacetGrid at 0x7febb2a6b040>"
            ]
          },
          "metadata": {},
          "execution_count": 54
        },
        {
          "output_type": "display_data",
          "data": {
            "text/plain": [
              "<Figure size 360x360 with 1 Axes>"
            ],
            "image/png": "[encoded data removed]"
          },
          "metadata": {
            "needs_background": "light"
          }
        }
      ]
    },
    {
      "cell_type": "markdown",
      "source": [
        "* Добавляем координаты центров городов (данные взяты с сайта latlong.net)"
      ],
      "metadata": {
        "id": "bHNnI_T4zzhX"
      }
    },
    {
      "cell_type": "code",
      "source": [
        "city_centers = {\n",
        "    'Columbus':(39.983334, -82.983330),\n",
        "    'Cincinnati':(39.103119, -84.512016),\n",
        "    'Cleveland':(41.505493, -81.681290),\n",
        "    'Las Vegas':(36.188110, -115.176468),\n",
        "    'Miami':(25.761681, -80.191788),\n",
        "    'Indianapolis':(39.791000, -86.148003),\n",
        "    'Birmingham':(33.543682, -86.779633),\n",
        "    'Portland':(45.512794, -122.679565)\n",
        "}"
      ],
      "metadata": {
        "id": "O2rXwvDmzchE"
      },
      "execution_count": null,
      "outputs": []
    },
    {
      "cell_type": "code",
      "source": [
        "lats = final_df['latitude'].tolist()\n",
        "lons = final_df['longitude'].tolist()\n",
        "locations = list(zip(lats, lons))\n",
        "\n",
        "map1 = folium.Map(location=[37.0902, -95.7129], zoom_start=5)\n",
        "FastMarkerCluster(data=locations).add_to(map1)\n",
        "map1"
      ],
      "metadata": {
        "colab": {
          "base_uri": "https://localhost:8080/",
          "height": 915
        },
        "id": "6aOG2HGa0FJF",
        "outputId": "8c6bae42-8183-42cb-8810-7deaf7c4af0d"
      },
      "execution_count": null,
      "outputs": [
        {
          "output_type": "execute_result",
          "data": {
            "text/plain": [
              "<folium.folium.Map at 0x7febb29addc0>"
            ],
            "text/html": [
              "<div style=\"width:100%;\"><div style=\"position:relative;width:100%;height:0;padding-bottom:60%;\"><span style=\"color:#565656\">Make this Notebook Trusted to load map: File -> Trust Notebook</span><iframe srcdoc=\"&lt;!DOCTYPE html&gt;\n",
              "&lt;html&gt;\n",
              "&lt;head&gt;\n",
              "    \n",
              "    &lt;meta http-equiv=&quot;content-type&quot; content=&quot;text/html; charset=UTF-8&quot; /&gt;\n",
              "    \n",
              "        &lt;script&gt;\n",
              "            L_NO_TOUCH = false;\n",
              "            L_DISABLE_3D = false;\n",
              "        &lt;/script&gt;\n",
              "    \n",
              "    &lt;style&gt;html, body {width: 100%;height: 100%;margin: 0;padding: 0;}&lt;/style&gt;\n",
              "    &lt;style&gt;#map {position:absolute;top:0;bottom:0;right:0;left:0;}&lt;/style&gt;\n",
              "    &lt;script src=&quot;https://cdn.jsdelivr.net/npm/leaflet@1.6.0/dist/leaflet.js&quot;&gt;&lt;/script&gt;\n",
              "    &lt;script src=&quot;https://code.jquery.com/jquery-1.12.4.min.js&quot;&gt;&lt;/script&gt;\n",
              "    &lt;script src=&quot;https://maxcdn.bootstrapcdn.com/bootstrap/3.2.0/js/bootstrap.min.js&quot;&gt;&lt;/script&gt;\n",
              "    &lt;script src=&quot;https://cdnjs.cloudflare.com/ajax/libs/Leaflet.awesome-markers/2.0.2/leaflet.awesome-markers.js&quot;&gt;&lt;/script&gt;\n",
              "    &lt;link rel=&quot;stylesheet&quot; href=&quot;https://cdn.jsdelivr.net/npm/leaflet@1.6.0/dist/leaflet.css&quot;/&gt;\n",
              "    &lt;link rel=&quot;stylesheet&quot; href=&quot;https://maxcdn.bootstrapcdn.com/bootstrap/3.2.0/css/bootstrap.min.css&quot;/&gt;\n",
              "    &lt;link rel=&quot;stylesheet&quot; href=&quot;https://maxcdn.bootstrapcdn.com/bootstrap/3.2.0/css/bootstrap-theme.min.css&quot;/&gt;\n",
              "    &lt;link rel=&quot;stylesheet&quot; href=&quot;https://maxcdn.bootstrapcdn.com/font-awesome/4.6.3/css/font-awesome.min.css&quot;/&gt;\n",
              "    &lt;link rel=&quot;stylesheet&quot; href=&quot;https://cdnjs.cloudflare.com/ajax/libs/Leaflet.awesome-markers/2.0.2/leaflet.awesome-markers.css&quot;/&gt;\n",
              "    &lt;link rel=&quot;stylesheet&quot; href=&quot;https://cdn.jsdelivr.net/gh/python-visualization/folium/folium/templates/leaflet.awesome.rotate.min.css&quot;/&gt;\n",
              "    \n",
              "            &lt;meta name=&quot;viewport&quot; content=&quot;width=device-width,\n",
              "                initial-scale=1.0, maximum-scale=1.0, user-scalable=no&quot; /&gt;\n",
              "            &lt;style&gt;\n",
              "                #map_a8db19945d491b7af93ee3cfbe008bb2 {\n",
              "                    position: relative;\n",
              "                    width: 100.0%;\n",
              "                    height: 100.0%;\n",
              "                    left: 0.0%;\n",
              "                    top: 0.0%;\n",
              "                }\n",
              "            &lt;/style&gt;\n",
              "        \n",
              "    &lt;script src=&quot;https://cdnjs.cloudflare.com/ajax/libs/leaflet.markercluster/1.1.0/leaflet.markercluster.js&quot;&gt;&lt;/script&gt;\n",
              "    &lt;link rel=&quot;stylesheet&quot; href=&quot;https://cdnjs.cloudflare.com/ajax/libs/leaflet.markercluster/1.1.0/MarkerCluster.css&quot;/&gt;\n",
              "    &lt;link rel=&quot;stylesheet&quot; href=&quot;https://cdnjs.cloudflare.com/ajax/libs/leaflet.markercluster/1.1.0/MarkerCluster.Default.css&quot;/&gt;\n",
              "&lt;/head&gt;\n",
              "&lt;body&gt;\n",
              "    \n",
              "    \n",
              "            &lt;div class=&quot;folium-map&quot; id=&quot;map_a8db19945d491b7af93ee3cfbe008bb2&quot; &gt;&lt;/div&gt;\n",
              "        \n",
              "&lt;/body&gt;\n",
              "&lt;script&gt;\n",
              "    \n",
              "    \n",
              "            var map_a8db19945d491b7af93ee3cfbe008bb2 = L.map(\n",
              "                &quot;map_a8db19945d491b7af93ee3cfbe008bb2&quot;,\n",
              "                {\n",
              "                    center: [37.0902, -95.7129],\n",
              "                    crs: L.CRS.EPSG3857,\n",
              "                    zoom: 5,\n",
              "                    zoomControl: true,\n",
              "                    preferCanvas: false,\n",
              "                }\n",
              "            );\n",
              "\n",
              "            \n",
              "\n",
              "        \n",
              "    \n",
              "            var tile_layer_9bc4be80dc87f419f738df278c47b012 = L.tileLayer(\n",
              "                &quot;https://{s}.tile.openstreetmap.org/{z}/{x}/{y}.png&quot;,\n",
              "                {&quot;attribution&quot;: &quot;Data by \\u0026copy; \\u003ca href=\\&quot;http://openstreetmap.org\\&quot;\\u003eOpenStreetMap\\u003c/a\\u003e, under \\u003ca href=\\&quot;http://www.openstreetmap.org/copyright\\&quot;\\u003eODbL\\u003c/a\\u003e.&quot;, &quot;detectRetina&quot;: false, &quot;maxNativeZoom&quot;: 18, &quot;maxZoom&quot;: 18, &quot;minZoom&quot;: 0, &quot;noWrap&quot;: false, &quot;opacity&quot;: 1, &quot;subdomains&quot;: &quot;abc&quot;, &quot;tms&quot;: false}\n",
              "            ).addTo(map_a8db19945d491b7af93ee3cfbe008bb2);\n",
              "        \n",
              "    \n",
              "            var fast_marker_cluster_d250b42dfb36e07e2ea79c7144646a34 = (function(){\n",
              "                \n",
              "                var callback = function (row) {\n",
              "                    var icon = L.AwesomeMarkers.icon();\n",
              "                    var marker = L.marker(new L.LatLng(row[0], row[1]));\n",
              "                    marker.setIcon(icon);\n",
              "                    return marker;\n",
              "                };\n",
              "\n",
              "                var data = [[33.53055, -86.71381], [33.3848, -86.73919], [33.505974, -86.89299], [33.51169, -86.78845], [33.41926, -86.80079], [33.45069, -86.72996], [33.610855, -86.687775], [33.60603, -86.68913], [33.5328, -86.6857], [33.56268, -86.72863], [33.50771, -86.80475], [33.48011, -86.77455], [33.439, -86.78873], [33.47015, -86.88269], [33.51331, -86.89783], [33.45292, -86.92278], [33.4648, -86.81963], [33.53439, -86.70704], [33.51717, -86.80715], [33.42977, -86.70878], [33.42794, -86.70769], [33.42237, -86.69893], [33.51327, -86.80574], [33.49907, -86.79597], [25.9005, -80.1775], [25.8092, -80.3274], [39.1696, -84.4983], [39.1283, -84.5206], [39.0929, -84.2638], [39.2592, -84.6016], [39.1643, -84.699], [39.0966, -84.2649], [39.1572, -84.4576], [25.8495, -80.2415], [25.6283, -80.341], [25.714286, -80.417249], [39.0725, -84.3438], [39.2871, -84.4625], [39.1424, -84.3911], [39.2195, -84.5186], [39.2212, -84.5179], [25.809, -80.2323], [33.4703, -86.7717], [33.3793, -86.801], [33.42792, -86.709681], [39.1008, -84.5066], [39.2205, -84.5174], [33.5958, -86.6931], [33.3991, -86.8054], [39.2867, -84.4607], [25.7326, -80.3668], [25.7465, -80.2218], [39.2931, -84.5217], [25.6438, -80.334], [25.6866, -80.3803], [25.5747, -80.369], [45.508795, -122.579076], [33.4389, -86.7889], [39.1343, -84.501], [25.9034, -80.1589], [36.08332, -115.03157], [36.19517, -115.03022], [36.24008, -115.06539], [36.24005, -115.06162], [36.24717, -115.20801], [36.15855, -115.26313], [36.09883, -115.29574], [36.12964, -115.11166], [36.19522, -115.24257], [36.12038, -115.17133], [36.15914, -115.14227], [36.14355, -115.23302], [33.5237, -86.7251], [25.7649, -80.2412], [39.98863, -83.03884], [40.055798, -83.07162], [39.0714, -84.3053], [41.40896, -81.69288], [25.8086, -80.2654], [39.9677, -82.87532], [33.6111, -86.6876], [39.1305, -84.6075], [39.1461, -84.4288], [39.2041, -84.3704], [25.9255, -80.1663], [45.52834, -122.68064], [45.52267, -122.6543], [33.3797, -86.7993], [45.39512, -122.75152], [39.1532, -84.658], [39.2448, -84.5946], [45.4479, -122.59979], [39.2352, -84.377], [45.5205, -122.66039], [45.51129, -122.6742], [25.832697, -80.20798], [25.9287, -80.187], [45.516562, -122.679885], [45.51685, -122.679053], [45.519561, -122.682528], [45.5351, -122.6536], [39.14718, -84.42872], [25.779681, -80.256199], [25.749332, -80.25434], [25.769121, -80.351069], [33.51484, -86.81232], [33.5113, -86.7884], [33.5005, -86.7962], [33.4977, -86.8058], [39.9238, -82.9956], [39.065021, -84.295389], [41.3724, -81.8272], [33.410763, -86.761848], [40.066257, -83.093486], [40.116766, -83.067555], [45.532701, -122.653584], [39.12786, -84.51939], [36.12436, -115.135552], [45.582385, -122.722979], [36.16472, -115.15612], [36.03001, -115.136], [36.10262, -115.17236], [36.19724, -115.25779], [36.13727, -115.16558], [41.52517, -81.43888], [36.099953, -115.10464], [36.11585, -115.20725], [36.15897, -115.21035], [36.11337, -115.17263], [36.03985, -115.19221], [36.14385, -115.11927], [36.17437, -115.063], [36.14484, -115.11761], [36.17332, -115.11564], [36.17325, -115.06154], [36.01435, -115.11894], [36.10338, -115.13723], [36.21793, -115.21356], [36.1304, -115.06475], [36.11505, -115.26167], [36.22095, -115.27828], [36.1595, -115.23512], [36.14642, -115.29831], [36.20666, -115.30303], [36.15744, -115.24428], [45.52452, -122.81565], [45.5302, -122.6836], [36.14493, -115.207537], [39.956709, -82.920879], [39.997535, -83.007366], [45.52292, -122.69021], [45.516533, -122.752991], [41.52663, -81.437629], [25.691251, -80.313915], [40.09424, -83.087652], [36.196463, -115.258213], [41.46221, -81.64337], [39.9279, -83.117], [41.435691, -81.51809], [45.524522, -122.806151], [39.8865, -82.9995], [45.4862, -122.7484], [41.380759, -81.782945], [40.059873, -82.970603], [36.170346, -115.144035], [33.395554, -86.8059], [25.6843, -80.4541], [36.11432, -115.11964], [25.733042, -80.303024], [25.824045, -80.24141], [39.26947, -84.37195], [33.502738, -86.918827], [36.06269, -115.24272], [39.073254, -84.36157], [39.981582, -82.828889], [41.423078, -81.761787], [39.980706, -82.827374], [36.159117, -115.138005], [41.363122, -81.685393], [36.195133, -115.129943], [40.143953, -82.989366], [39.957485, -83.042103], [33.455456, -86.7355], [39.127955, -84.519694], [36.160129, -115.333447], [25.70566, -80.28636], [33.602436, -86.638738], [40.001749, -83.113754], [39.955846, -82.878019], [33.446, -86.7903], [33.42433, -86.80498], [33.6503, -86.6351], [40.010716, -82.866547], [33.55893, -86.715771], [25.733179, -80.367137], [39.09611, -84.27813], [39.16907, -84.49689], [39.14202, -84.39285], [40.0604, -82.9691], [39.1608, -84.4249], [45.539722, -122.612437], [40.049258, -82.916792], [41.462409, -81.802945], [41.38823, -81.82332], [41.365112, -81.685438], [39.915236, -82.880151], [25.684282, -80.366571], [45.496585, -122.566573], [45.5386, -122.5793], [45.576643, -122.661672], [45.5593, -122.6614], [45.4393, -122.7524], [45.5205, -122.6606], [45.415494, -122.631985], [25.656327, -80.405036], [39.94162, -82.982935], [39.952411, -83.116452], [25.689839, -80.312848], [33.350059, -86.866104], [33.472288, -86.819843], [36.132979, -115.319464], [45.405038, -122.623103], [25.807867, -80.290626], [45.533099, -122.62637], [41.50222, -81.535929], [41.383139, -81.739438], [40.019649, -82.866786], [41.483479, -81.702325], [41.5208, -81.5362], [45.496097, -122.609305], [40.060732, -82.964766], [33.414658, -86.805401], [41.425269, -81.735596], [39.2917, -84.3935], [41.4825, -81.7067], [41.4641, -81.5836], [41.4511, -81.8018], [39.9559, -82.88], [40.0663, -83.0926], [40.1116, -83.0899], [40.0267, -82.8659], [40.1084, -83.0193], [40.0648, -82.8636], [41.4095, -81.6163], [45.523847, -122.806737], [41.448128, -81.645068], [45.491868, -122.575518], [33.531869, -86.806261], [39.16453, -84.512299], [25.715355, -80.335742], [36.100331, -115.072344], [45.394334, -122.747032], [41.5014, -81.5375], [40.0038, -83.0088], [39.9649, -82.9917], [36.128266, -115.167601], [39.1453, -84.4319], [39.1452, -84.4315], [39.9951, -83.0074], [40.1178, -83.0104], [39.9148, -82.9669], [39.9481, -82.9389], [39.9557, -82.9017], [40.1411, -82.9912], [41.5205, -81.4554], [39.194, -84.5992], [40.0, -82.9307], [40.1456, -82.9938], [39.9657, -83.0015], [40.0655, -82.863], [39.9732, -82.9733], [39.9792, -82.8436], [41.4985, -81.5651], [39.2278, -84.3941], [39.955, -82.8605], [40.0626, -83.0412], [41.4502, -81.8141], [39.9822, -82.8186], [41.5014, -81.5372], [41.3684, -81.8031], [41.4643, -81.5626], [39.260997, -84.339276], [41.5016, -81.5394], [25.75096, -80.22774], [39.2535, -84.5898], [39.9918, -83.0402], [40.1403, -82.9771], [40.0621, -82.9526], [40.0713, -83.0188], [40.1467, -82.987], [39.9898, -83.0264], [40.0644, -83.0708], [39.9867, -82.9887], [45.3948, -122.752], [45.5398, -122.4779], [45.5036, -122.6393], [45.5188, -122.5664], [33.4498, -86.7887], [45.4973, -122.6104], [45.4676, -122.7146], [45.5096, -122.6833], [39.953548, -83.096183], [39.982757, -83.004459], [36.03254, -115.20941], [25.708846, -80.283601], [25.628001, -80.375355], [41.511924, -81.580506], [39.973351, -82.90105], [40.104914, -82.975618], [39.189142, -84.601202], [39.271021, -84.380413], [40.086678, -82.955685], [41.374556, -81.825097], [45.443258, -122.801271], [45.438331, -122.753693], [45.450898, -122.781772], [45.523399, -122.694857], [25.826726, -80.337455], [36.1467, -115.298194], [36.1282, -115.1375], [41.523, -81.651], [39.2852, -84.4452], [39.956268, -82.91589], [40.05364, -82.86223], [40.01058131, -82.86764039], [41.49914, -81.69963], [39.2862, -84.4671], [33.5227, -86.8094], [33.5516, -86.783], [33.4212, -86.7998], [33.5883, -86.7673], [33.5002, -86.8472], [33.3464, -86.7956], [25.670113, -80.441173], [25.725409, -80.262949], [25.95043, -80.14658], [45.394, -122.7503], [45.50499, -122.62002], [45.53376, -122.47742], [45.44838, -122.78272], [45.50494, -122.57775], [40.018692, -82.86702], [25.972414, -80.142876], [33.4451, -86.8271], [39.10004, -84.51284], [45.51236, -122.61983], [45.52049, -122.6813], [33.36995, -86.79923], [39.1976, -84.3804], [25.74999, -80.25733], [25.73225, -80.35464], [40.0482, -82.8647], [39.135, -84.4993], [39.1411, -84.618], [39.1281, -84.515], [33.40935, -86.66614], [33.50323, -86.7559], [33.47236, -86.76816], [33.37164, -86.8126], [33.42867, -86.7071], [25.6987, -80.4377], [36.1959, -115.0303], [33.5051, -86.8567], [39.0721, -84.3194], [39.923849, -82.88054], [41.4304, -81.7279], [39.94657, -82.91452], [25.6781, -80.4173], [41.52938, -81.52194], [39.933702, -82.963597], [25.6856, -80.4213], [39.199773, -84.578987], [41.363369, -81.68543], [41.464745, -81.768873], [45.457027, -122.713696], [41.373042, -81.826072], [41.433314, -81.523935], [39.25009, -84.59411], [39.18985, -84.36207], [25.594612, -80.356141], [41.3691, -81.8051], [41.38531, -81.770546], [33.60165, -86.6397], [41.373432, -81.8241], [39.2863, -84.4856], [39.28241, -84.4859], [39.29191, -84.39403], [39.093762, -84.264364], [39.09424, -84.26359], [39.128339, -84.519822], [39.24698, -84.59638], [39.232649, -84.590518], [39.222592, -84.587042], [39.112875, -84.574661], [39.1629, -84.42109], [39.28024, -84.56369], [39.17093, -84.42193], [39.158363, -84.53903], [39.16197, -84.53976], [39.2858, -84.4666], [39.09469, -84.266534], [39.17112, -84.42675], [39.1684, -84.4238], [39.24261, -84.59515], [39.243163, -84.595134], [39.28099, -84.49619], [39.29118, -84.39518], [39.290979, -84.396366], [39.290515, -84.396126], [39.09525, -84.26674], [39.101322, -84.27503], [39.142877, -84.362845], [41.38607, -81.7682], [39.269213, -84.371917], [39.2908, -84.3054], [39.286461, -84.449052], [39.228109, -84.394045], [39.2489, -84.5956], [39.094898, -84.387442], [36.07401, -115.10158], [39.159058, -84.651535], [39.1536, -84.6032], [39.126836, -84.605566], [39.1898, -84.6001], [39.1451, -84.6242], [39.21796, -84.58528], [39.18998, -84.46228], [39.21051, -84.47418], [39.12692, -84.50306], [39.191204, -84.570536], [39.0946, -84.2651], [39.25989, -84.60319], [39.197, -84.4768], [39.22077, -84.5863], [39.18891, -84.60152], [39.198493, -84.382447], [39.225036, -84.516375], [39.21621, -84.51867], [39.19643, -84.380844], [45.412631, -122.629995], [39.100871, -84.272616], [39.258061, -84.469734], [39.972307, -83.099081], [39.2529, -84.5987], [39.1928, -84.65971], [39.201, -84.5213], [39.222, -84.5179], [25.8895, -80.1648], [41.4145, -81.6317], [41.4383, -81.8725], [41.4501, -81.5645], [39.98745, -83.02792], [45.494471, -122.578286], [36.0434, -115.1872], [41.527, -81.5858], [39.217111, -84.545924], [39.094863, -84.613747], [39.223404, -84.517544], [39.202453, -84.521707], [39.284774, -84.444467], [39.0946, -84.2644], [39.19685, -84.38105], [39.286724, -84.56519], [39.259785, -84.60207], [33.37949, -86.80468], [39.29201, -84.31007], [39.242, -84.5454], [25.747346, -80.314871], [39.24411, -84.59499], [39.2485, -84.5959], [39.146979, -84.445654], [36.1449, -115.2048], [41.4208, -81.60833], [41.501359, -81.532359], [41.419301, -81.759695], [39.26312, -84.41687], [39.2923, -84.3932], [39.28594, -84.44577], [39.2221, -84.4417], [39.29211, -84.31342], [39.20135, -84.52084], [45.4037, -122.7966], [45.5337, -122.55659], [39.15644, -84.61077], [41.418731, -81.606844], [39.19218, -84.659], [39.973114, -83.09965], [39.2921, -84.31293], [25.576898, -80.338895], [39.15001, -84.51125], [36.1439, -115.13648], [39.222856, -84.440622], [40.019526, -83.024356], [33.6479, -86.6329], [41.55544, -81.55167], [39.20339, -84.36911], [39.202493, -84.372453], [39.292244, -84.314204], [25.7478, -80.3328], [25.8978, -80.1622], [25.760483, -80.41009], [25.7703, -80.325563], [25.746553, -80.369168], [25.90352, -80.15934], [25.59234, -80.37901], [25.889045, -80.163788], [25.74767, -80.337166], [25.76088, -80.39036], [25.891937, -80.186254], [25.928937, -80.195872], [25.760377, -80.399337], [25.663191, -80.416463], [25.759621, -80.367717], [25.925698, -80.16166], [25.760922, -80.420567], [25.958494, -80.20579], [25.730244, -80.415944], [25.96232, -80.14765], [36.15912, -115.28722], [36.114117, -115.2405], [25.926834, -80.16729], [25.74859, -80.33566], [25.762743, -80.306344], [25.733406, -80.351262], [25.754969, -80.36805], [25.733706, -80.28921], [25.76597, -80.21029], [25.80993, -80.31737], [25.808768, -80.264892], [25.592327, -80.378396], [25.809608, -80.327332], [25.774176, -80.191414], [36.18013, -115.258], [36.14308, -115.22561], [36.1964, -115.24086], [36.091866, -115.17516], [39.0948, -84.2657], [39.149921, -84.627597], [39.292092, -84.310686], [39.958945, -83.092816], [39.095765, -84.609175], [39.16097, -84.40454], [39.29121, -84.30123], [39.0948, -84.6097], [39.0934, -84.6185], [39.9432, -83.0804], [33.532515, -86.704859], [39.151239, -84.627309], [39.15575, -84.62973], [39.3017, -84.5274], [39.095189, -84.26676], [39.095381, -84.611321], [36.19737, -115.22374], [36.12267, -115.24317], [39.285188, -84.445705], [39.297, -84.5251], [39.0954, -84.6118], [41.432141, -81.525278], [45.52329, -122.68366], [25.623972, -80.413689], [39.145862, -84.625642], [25.815647, -80.18967], [25.5957, -80.3549], [45.50459, -122.64503], [45.4137, -122.6302], [36.11543, -115.20339], [40.085692, -82.957763], [25.823828, -80.215173], [39.226389, -84.396969], [25.684879, -80.312689], [36.289861, -115.285664], [36.16125, -115.24393], [25.75049, -80.2433], [36.15761, -115.313484], [45.5044, -122.5341], [25.732096, -80.260414], [36.1428, -115.2253], [36.12118, -115.1387], [36.15748, -115.079768], [25.766182, -80.20161], [36.289642, -115.287415], [39.309643604, -84.458319292], [45.424558, -122.781563], [39.138858542, -84.53249131], [39.94646, -83.03419], [36.11752, -115.208466], [33.505337, -86.849146], [36.194841, -115.246595], [36.201835, -115.282173], [36.1445, -115.30074], [36.138623, -115.13753], [36.072008, -115.10136], [45.518568, -122.474804], [36.197327, -115.247458], [36.103476, -115.172585], [41.50357, -81.62745], [39.1286, -84.4987], [36.15906, -115.20748], [39.888518, -82.997378], [36.09702, -115.1731], [41.439957, -81.720886], [33.48046, -86.84217], [36.17325, -115.24447], [45.531715, -122.661804], [36.144031516, -115.200231529], [36.06027, -115.279884], [36.10011, -115.22305], [39.1033, -84.5065], [25.80097, -80.18921], [39.14509, -84.44346], [25.812042, -80.36785], [41.524776554, -81.587264835], [36.11493, -115.29577], [33.49684, -88.38548], [25.772984, -80.188499], [45.562675, -122.58912], [25.763436533, -80.262914], [45.46144, -122.70624], [40.10272, -83.09053], [41.48054, -81.59866], [40.05486, -82.86491], [45.580766, -122.661376], [41.456325, -81.787871], [36.018726, -115.1191], [36.2306, -115.2242], [33.495478, -86.878638], [25.76914, -80.18998], [40.08632, -82.97755], [25.813198, -80.240677], [45.39822, -122.61888], [36.05746, -115.12038], [25.891614, -80.21105], [45.50628, -122.65814], [40.0981, -83.0903], [45.586771, -122.738535], [33.581132, -86.775824], [40.14214, -82.99206], [39.169345, -84.498274], [36.058716, -115.243355], [36.27663, -115.27929], [25.78383, -80.33324], [33.59672, -86.69415], [36.083996, -115.208512], [36.27044, -115.26919], [36.100601, -115.137315], [36.1964, -115.24796], [36.11562, -115.13811], [36.130119665, -115.137300343], [39.96292, -82.88604], [45.446733804, -122.629705075], [35.98352204, -115.1902164], [41.50128, -81.63979], [33.49605, -86.8777], [36.100356, -115.207135], [40.06049, -82.9632], [36.15241, -115.15404], [33.5534, -86.88625], [39.89802376, -82.882828554], [36.143939, -115.22286], [36.19602, -115.25733], [45.50881, -122.57924], [39.166594, -84.513027], [45.46537, -122.75403], [36.220029, -115.27867], [25.796524, -80.32531], [36.1087, -115.1403], [40.051990988, -82.91903173], [39.15761, -84.45798], [25.83857, -80.18425], [36.16006, -115.26009], [36.16686, -115.20552], [25.88898, -80.21084], [45.536697279, -122.618580658], [41.36248, -81.68796], [36.130398, -115.108247], [45.49826, -122.63992], [39.95654, -82.92538], [45.43885, -122.75331], [36.181761, -115.256432], [36.098907, -115.17556], [36.08446, -115.11879], [41.464733, -81.68735], [36.11469, -115.14152], [36.07448, -115.17276], [39.11277, -84.51427], [40.03541, -83.01643], [45.432287804, -122.767828352], [45.512000098, -122.653959646]];\n",
              "                var cluster = L.markerClusterGroup({});\n",
              "\n",
              "                for (var i = 0; i &lt; data.length; i++) {\n",
              "                    var row = data[i];\n",
              "                    var marker = callback(row);\n",
              "                    marker.addTo(cluster);\n",
              "                }\n",
              "\n",
              "                cluster.addTo(map_a8db19945d491b7af93ee3cfbe008bb2);\n",
              "                return cluster;\n",
              "            })();\n",
              "        \n",
              "&lt;/script&gt;\n",
              "&lt;/html&gt;\" style=\"position:absolute;width:100%;height:100%;left:0;top:0;border:none !important;\" allowfullscreen webkitallowfullscreen mozallowfullscreen></iframe></div></div>"
            ]
          },
          "metadata": {},
          "execution_count": 56
        }
      ]
    },
    {
      "cell_type": "markdown",
      "source": [
        "# Step 5. Analysis of the districts of Portland (as the most profitable \"start\" city from Unit Economics research results) and the choice of the number of restaurants to open"
      ],
      "metadata": {
        "id": "fq2-9s4s0foJ"
      }
    },
    {
      "cell_type": "markdown",
      "source": [
        "* Adding a file with portland zipcodes from the site https://gis-pdx.opendata.arcgis.com/"
      ],
      "metadata": {
        "id": "RV9mTTn002Ph"
      }
    },
    {
      "cell_type": "code",
      "source": [
        "district = pd.read_csv('/content/Business_Districts_OD.csv')"
      ],
      "metadata": {
        "id": "aIcOHSVN0zKo"
      },
      "execution_count": null,
      "outputs": []
    },
    {
      "cell_type": "code",
      "source": [
        "district.columns = district.columns.str.replace('ZIPCODE', 'postalCode')\n",
        "district.columns = district.columns.str.replace('NAME', 'district')\n",
        "district.columns = district.columns.str.replace('TYPE', 'Type_of_disctrict')"
      ],
      "metadata": {
        "id": "O3RdvFjG04rt"
      },
      "execution_count": null,
      "outputs": []
    },
    {
      "cell_type": "code",
      "source": [
        "district=district[['postalCode', 'Type_of_disctrict',\t'district']]"
      ],
      "metadata": {
        "id": "YK3RHBfc1Jap"
      },
      "execution_count": null,
      "outputs": []
    },
    {
      "cell_type": "code",
      "source": [
        "portland_df = final_df[final_df['city']=='Portland']\n",
        "portland_df.info()"
      ],
      "metadata": {
        "colab": {
          "base_uri": "https://localhost:8080/"
        },
        "id": "7vdnN2zQ1jkI",
        "outputId": "d8aa44ad-c236-49b0-97d6-90e7cd69d52e"
      },
      "execution_count": null,
      "outputs": [
        {
          "output_type": "stream",
          "name": "stdout",
          "text": [
            "<class 'pandas.core.frame.DataFrame'>\n",
            "Int64Index: 77 entries, 56 to 687\n",
            "Data columns (total 9 columns):\n",
            " #   Column        Non-Null Count  Dtype  \n",
            "---  ------        --------------  -----  \n",
            " 0   address       77 non-null     object \n",
            " 1   city          77 non-null     object \n",
            " 2   latitude      77 non-null     float64\n",
            " 3   longitude     77 non-null     float64\n",
            " 4   postalCode    77 non-null     object \n",
            " 5   province      77 non-null     object \n",
            " 6   name_of_rest  77 non-null     object \n",
            " 7   population    77 non-null     int64  \n",
            " 8   density       77 non-null     int64  \n",
            "dtypes: float64(2), int64(2), object(5)\n",
            "memory usage: 6.0+ KB\n"
          ]
        }
      ]
    },
    {
      "cell_type": "code",
      "source": [
        "portland_districts = pd.merge(portland_df, district, how='left', on=['postalCode'])"
      ],
      "metadata": {
        "id": "sGfFuI501r6g"
      },
      "execution_count": null,
      "outputs": []
    },
    {
      "cell_type": "code",
      "source": [
        "portland_districts['district'].isna().count()"
      ],
      "metadata": {
        "colab": {
          "base_uri": "https://localhost:8080/"
        },
        "id": "7kxTRNd917lm",
        "outputId": "3a6eab03-aa3d-4f77-e86b-2d916680716c"
      },
      "execution_count": null,
      "outputs": [
        {
          "output_type": "execute_result",
          "data": {
            "text/plain": [
              "121"
            ]
          },
          "metadata": {},
          "execution_count": 62
        }
      ]
    },
    {
      "cell_type": "code",
      "source": [
        "lats = portland_districts['latitude'].tolist()\n",
        "lons = portland_districts['longitude'].tolist()\n",
        "locations = list(zip(lats, lons))\n",
        "\n",
        "map1 = folium.Map(location=[45.512794, -122.679565], zoom_start=5)\n",
        "FastMarkerCluster(data=locations).add_to(map1)\n",
        "map1"
      ],
      "metadata": {
        "colab": {
          "base_uri": "https://localhost:8080/",
          "height": 915
        },
        "id": "gRi3EEeI8xAG",
        "outputId": "9c65d09a-9cbc-4181-e2da-a3c7eda066b4"
      },
      "execution_count": null,
      "outputs": [
        {
          "output_type": "execute_result",
          "data": {
            "text/plain": [
              "<folium.folium.Map at 0x7febb2987cd0>"
            ],
            "text/html": [
              "<div style=\"width:100%;\"><div style=\"position:relative;width:100%;height:0;padding-bottom:60%;\"><span style=\"color:#565656\">Make this Notebook Trusted to load map: File -> Trust Notebook</span><iframe srcdoc=\"&lt;!DOCTYPE html&gt;\n",
              "&lt;html&gt;\n",
              "&lt;head&gt;\n",
              "    \n",
              "    &lt;meta http-equiv=&quot;content-type&quot; content=&quot;text/html; charset=UTF-8&quot; /&gt;\n",
              "    \n",
              "        &lt;script&gt;\n",
              "            L_NO_TOUCH = false;\n",
              "            L_DISABLE_3D = false;\n",
              "        &lt;/script&gt;\n",
              "    \n",
              "    &lt;style&gt;html, body {width: 100%;height: 100%;margin: 0;padding: 0;}&lt;/style&gt;\n",
              "    &lt;style&gt;#map {position:absolute;top:0;bottom:0;right:0;left:0;}&lt;/style&gt;\n",
              "    &lt;script src=&quot;https://cdn.jsdelivr.net/npm/leaflet@1.6.0/dist/leaflet.js&quot;&gt;&lt;/script&gt;\n",
              "    &lt;script src=&quot;https://code.jquery.com/jquery-1.12.4.min.js&quot;&gt;&lt;/script&gt;\n",
              "    &lt;script src=&quot;https://maxcdn.bootstrapcdn.com/bootstrap/3.2.0/js/bootstrap.min.js&quot;&gt;&lt;/script&gt;\n",
              "    &lt;script src=&quot;https://cdnjs.cloudflare.com/ajax/libs/Leaflet.awesome-markers/2.0.2/leaflet.awesome-markers.js&quot;&gt;&lt;/script&gt;\n",
              "    &lt;link rel=&quot;stylesheet&quot; href=&quot;https://cdn.jsdelivr.net/npm/leaflet@1.6.0/dist/leaflet.css&quot;/&gt;\n",
              "    &lt;link rel=&quot;stylesheet&quot; href=&quot;https://maxcdn.bootstrapcdn.com/bootstrap/3.2.0/css/bootstrap.min.css&quot;/&gt;\n",
              "    &lt;link rel=&quot;stylesheet&quot; href=&quot;https://maxcdn.bootstrapcdn.com/bootstrap/3.2.0/css/bootstrap-theme.min.css&quot;/&gt;\n",
              "    &lt;link rel=&quot;stylesheet&quot; href=&quot;https://maxcdn.bootstrapcdn.com/font-awesome/4.6.3/css/font-awesome.min.css&quot;/&gt;\n",
              "    &lt;link rel=&quot;stylesheet&quot; href=&quot;https://cdnjs.cloudflare.com/ajax/libs/Leaflet.awesome-markers/2.0.2/leaflet.awesome-markers.css&quot;/&gt;\n",
              "    &lt;link rel=&quot;stylesheet&quot; href=&quot;https://cdn.jsdelivr.net/gh/python-visualization/folium/folium/templates/leaflet.awesome.rotate.min.css&quot;/&gt;\n",
              "    \n",
              "            &lt;meta name=&quot;viewport&quot; content=&quot;width=device-width,\n",
              "                initial-scale=1.0, maximum-scale=1.0, user-scalable=no&quot; /&gt;\n",
              "            &lt;style&gt;\n",
              "                #map_5a791cc40ec1c502167ba4927af35097 {\n",
              "                    position: relative;\n",
              "                    width: 100.0%;\n",
              "                    height: 100.0%;\n",
              "                    left: 0.0%;\n",
              "                    top: 0.0%;\n",
              "                }\n",
              "            &lt;/style&gt;\n",
              "        \n",
              "    &lt;script src=&quot;https://cdnjs.cloudflare.com/ajax/libs/leaflet.markercluster/1.1.0/leaflet.markercluster.js&quot;&gt;&lt;/script&gt;\n",
              "    &lt;link rel=&quot;stylesheet&quot; href=&quot;https://cdnjs.cloudflare.com/ajax/libs/leaflet.markercluster/1.1.0/MarkerCluster.css&quot;/&gt;\n",
              "    &lt;link rel=&quot;stylesheet&quot; href=&quot;https://cdnjs.cloudflare.com/ajax/libs/leaflet.markercluster/1.1.0/MarkerCluster.Default.css&quot;/&gt;\n",
              "&lt;/head&gt;\n",
              "&lt;body&gt;\n",
              "    \n",
              "    \n",
              "            &lt;div class=&quot;folium-map&quot; id=&quot;map_5a791cc40ec1c502167ba4927af35097&quot; &gt;&lt;/div&gt;\n",
              "        \n",
              "&lt;/body&gt;\n",
              "&lt;script&gt;\n",
              "    \n",
              "    \n",
              "            var map_5a791cc40ec1c502167ba4927af35097 = L.map(\n",
              "                &quot;map_5a791cc40ec1c502167ba4927af35097&quot;,\n",
              "                {\n",
              "                    center: [45.512794, -122.679565],\n",
              "                    crs: L.CRS.EPSG3857,\n",
              "                    zoom: 5,\n",
              "                    zoomControl: true,\n",
              "                    preferCanvas: false,\n",
              "                }\n",
              "            );\n",
              "\n",
              "            \n",
              "\n",
              "        \n",
              "    \n",
              "            var tile_layer_60f50e8c5b6c4ef648ebb6466f60ce23 = L.tileLayer(\n",
              "                &quot;https://{s}.tile.openstreetmap.org/{z}/{x}/{y}.png&quot;,\n",
              "                {&quot;attribution&quot;: &quot;Data by \\u0026copy; \\u003ca href=\\&quot;http://openstreetmap.org\\&quot;\\u003eOpenStreetMap\\u003c/a\\u003e, under \\u003ca href=\\&quot;http://www.openstreetmap.org/copyright\\&quot;\\u003eODbL\\u003c/a\\u003e.&quot;, &quot;detectRetina&quot;: false, &quot;maxNativeZoom&quot;: 18, &quot;maxZoom&quot;: 18, &quot;minZoom&quot;: 0, &quot;noWrap&quot;: false, &quot;opacity&quot;: 1, &quot;subdomains&quot;: &quot;abc&quot;, &quot;tms&quot;: false}\n",
              "            ).addTo(map_5a791cc40ec1c502167ba4927af35097);\n",
              "        \n",
              "    \n",
              "            var fast_marker_cluster_7afeb9374d3454b681316e51298e0f4a = (function(){\n",
              "                \n",
              "                var callback = function (row) {\n",
              "                    var icon = L.AwesomeMarkers.icon();\n",
              "                    var marker = L.marker(new L.LatLng(row[0], row[1]));\n",
              "                    marker.setIcon(icon);\n",
              "                    return marker;\n",
              "                };\n",
              "\n",
              "                var data = [[45.508795, -122.579076], [45.52834, -122.68064], [45.52267, -122.6543], [45.52267, -122.6543], [45.52267, -122.6543], [45.52267, -122.6543], [45.39512, -122.75152], [45.4479, -122.59979], [45.5205, -122.66039], [45.5205, -122.66039], [45.5205, -122.66039], [45.5205, -122.66039], [45.51129, -122.6742], [45.516562, -122.679885], [45.51685, -122.679053], [45.519561, -122.682528], [45.5351, -122.6536], [45.532701, -122.653584], [45.582385, -122.722979], [45.582385, -122.722979], [45.582385, -122.722979], [45.52452, -122.81565], [45.5302, -122.6836], [45.52292, -122.69021], [45.516533, -122.752991], [45.524522, -122.806151], [45.4862, -122.7484], [45.539722, -122.612437], [45.496585, -122.566573], [45.496585, -122.566573], [45.496585, -122.566573], [45.496585, -122.566573], [45.5386, -122.5793], [45.5386, -122.5793], [45.576643, -122.661672], [45.576643, -122.661672], [45.576643, -122.661672], [45.5593, -122.6614], [45.5593, -122.6614], [45.5593, -122.6614], [45.4393, -122.7524], [45.5205, -122.6606], [45.5205, -122.6606], [45.5205, -122.6606], [45.5205, -122.6606], [45.415494, -122.631985], [45.405038, -122.623103], [45.533099, -122.62637], [45.496097, -122.609305], [45.523847, -122.806737], [45.491868, -122.575518], [45.491868, -122.575518], [45.491868, -122.575518], [45.491868, -122.575518], [45.394334, -122.747032], [45.3948, -122.752], [45.5398, -122.4779], [45.5036, -122.6393], [45.5188, -122.5664], [45.4973, -122.6104], [45.4676, -122.7146], [45.5096, -122.6833], [45.443258, -122.801271], [45.438331, -122.753693], [45.450898, -122.781772], [45.523399, -122.694857], [45.523399, -122.694857], [45.394, -122.7503], [45.50499, -122.62002], [45.53376, -122.47742], [45.44838, -122.78272], [45.50494, -122.57775], [45.50494, -122.57775], [45.50494, -122.57775], [45.50494, -122.57775], [45.51236, -122.61983], [45.51236, -122.61983], [45.51236, -122.61983], [45.51236, -122.61983], [45.52049, -122.6813], [45.457027, -122.713696], [45.412631, -122.629995], [45.494471, -122.578286], [45.494471, -122.578286], [45.494471, -122.578286], [45.494471, -122.578286], [45.4037, -122.7966], [45.5337, -122.55659], [45.5337, -122.55659], [45.52329, -122.68366], [45.50459, -122.64503], [45.4137, -122.6302], [45.5044, -122.5341], [45.424558, -122.781563], [45.518568, -122.474804], [45.531715, -122.661804], [45.562675, -122.58912], [45.562675, -122.58912], [45.46144, -122.70624], [45.580766, -122.661376], [45.580766, -122.661376], [45.580766, -122.661376], [45.39822, -122.61888], [45.50628, -122.65814], [45.50628, -122.65814], [45.50628, -122.65814], [45.50628, -122.65814], [45.586771, -122.738535], [45.586771, -122.738535], [45.586771, -122.738535], [45.446733804, -122.629705075], [45.50881, -122.57924], [45.46537, -122.75403], [45.536697279, -122.618580658], [45.49826, -122.63992], [45.43885, -122.75331], [45.432287804, -122.767828352], [45.512000098, -122.653959646], [45.512000098, -122.653959646], [45.512000098, -122.653959646], [45.512000098, -122.653959646]];\n",
              "                var cluster = L.markerClusterGroup({});\n",
              "\n",
              "                for (var i = 0; i &lt; data.length; i++) {\n",
              "                    var row = data[i];\n",
              "                    var marker = callback(row);\n",
              "                    marker.addTo(cluster);\n",
              "                }\n",
              "\n",
              "                cluster.addTo(map_5a791cc40ec1c502167ba4927af35097);\n",
              "                return cluster;\n",
              "            })();\n",
              "        \n",
              "&lt;/script&gt;\n",
              "&lt;/html&gt;\" style=\"position:absolute;width:100%;height:100%;left:0;top:0;border:none !important;\" allowfullscreen webkitallowfullscreen mozallowfullscreen></iframe></div></div>"
            ]
          },
          "metadata": {},
          "execution_count": 63
        }
      ]
    },
    {
      "cell_type": "code",
      "source": [
        "cityplt=portland_districts.district.value_counts()[:10].plot.bar(title='Top 10 districts')\n",
        "cityplt.set_xlabel('district',size=15)\n",
        "cityplt.set_ylabel('count',size=15)"
      ],
      "metadata": {
        "colab": {
          "base_uri": "https://localhost:8080/",
          "height": 431
        },
        "id": "SQPggdR58yk8",
        "outputId": "bd51c382-3418-4c72-b1fa-198dde5901ab"
      },
      "execution_count": null,
      "outputs": [
        {
          "output_type": "execute_result",
          "data": {
            "text/plain": [
              "Text(0, 0.5, 'count')"
            ]
          },
          "metadata": {},
          "execution_count": 64
        },
        {
          "output_type": "display_data",
          "data": {
            "text/plain": [
              "<Figure size 432x288 with 1 Axes>"
            ],
            "image/png": "[encoded data removed]"
          },
          "metadata": {
            "needs_background": "light"
          }
        }
      ]
    },
    {
      "cell_type": "code",
      "source": [
        "district_count = portland_districts['district'].value_counts()\n",
        "district_count.describe()"
      ],
      "metadata": {
        "colab": {
          "base_uri": "https://localhost:8080/"
        },
        "id": "UwDHu_hi80Ae",
        "outputId": "570ffa67-d564-4ff2-a880-6bf9d46a9a6e"
      },
      "execution_count": null,
      "outputs": [
        {
          "output_type": "execute_result",
          "data": {
            "text/plain": [
              "count    25.000000\n",
              "mean      2.920000\n",
              "std       1.730125\n",
              "min       1.000000\n",
              "25%       2.000000\n",
              "50%       2.000000\n",
              "75%       4.000000\n",
              "max       6.000000\n",
              "Name: district, dtype: float64"
            ]
          },
          "metadata": {},
          "execution_count": 65
        }
      ]
    },
    {
      "cell_type": "code",
      "source": [
        "fig, ax = plt.subplots()\n",
        "total_districts_with_less_2_rest = len(district_count[district_count < 2])\n",
        "total_districts_with_greater_equal_4_rests = portland_districts['district'].nunique() - total_districts_with_less_2_rest\n",
        "values = [total_districts_with_less_2_rest, total_districts_with_greater_equal_4_rests]\n",
        "ax.pie(values, \n",
        "       labels=[\"districts opened 1-3 shops\", \"districts opened more than 3 shops\"], autopct='%.1f%%', radius=1, \n",
        "       explode = (0.1, 0))\n",
        "ax.set_aspect('equal')\n",
        "ax.set_title(\"Portland' Fast Food Restaurants Number\")\n",
        "plt.show()"
      ],
      "metadata": {
        "colab": {
          "base_uri": "https://localhost:8080/",
          "height": 264
        },
        "id": "SWHr49RA817R",
        "outputId": "4b245641-1854-4616-c2d5-56c22a2a5f90"
      },
      "execution_count": null,
      "outputs": [
        {
          "output_type": "display_data",
          "data": {
            "text/plain": [
              "<Figure size 432x288 with 1 Axes>"
            ],
            "image/png": "[encoded data removed]"
          },
          "metadata": {}
        }
      ]
    }
  ]
}